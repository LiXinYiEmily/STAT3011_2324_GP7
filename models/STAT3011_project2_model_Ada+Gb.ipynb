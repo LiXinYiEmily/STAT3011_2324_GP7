{
  "nbformat": 4,
  "nbformat_minor": 0,
  "metadata": {
    "colab": {
      "provenance": [],
      "mount_file_id": "1wdv-6ZFB8bjcmVWHcfTt1g6UpUQXtAAk",
      "authorship_tag": "ABX9TyPZkMk8z67Id383EuT/KEpj",
      "include_colab_link": true
    },
    "kernelspec": {
      "name": "python3",
      "display_name": "Python 3"
    },
    "language_info": {
      "name": "python"
    }
  },
  "cells": [
    {
      "cell_type": "markdown",
      "metadata": {
        "id": "view-in-github",
        "colab_type": "text"
      },
      "source": [
        "<a href=\"https://colab.research.google.com/github/LiXinYiEmily/STAT3011_2324_GP7/blob/main/STAT3011_project2_model_Ada%2BGb.ipynb\" target=\"_parent\"><img src=\"https://colab.research.google.com/assets/colab-badge.svg\" alt=\"Open In Colab\"/></a>"
      ]
    },
    {
      "cell_type": "markdown",
      "source": [
        "### Import Data"
      ],
      "metadata": {
        "id": "fc8fuHiOiRDv"
      }
    },
    {
      "cell_type": "code",
      "execution_count": 1,
      "metadata": {
        "id": "7W_qIIfUzYiJ"
      },
      "outputs": [],
      "source": [
        "from __future__ import print_function\n",
        "import pandas as pd\n",
        "import numpy as np\n",
        "import seaborn as sns\n",
        "import matplotlib.pyplot as plt"
      ]
    },
    {
      "cell_type": "code",
      "source": [
        "import warnings\n",
        "warnings.filterwarnings(\"ignore\")"
      ],
      "metadata": {
        "id": "142P3Bp1vCuE"
      },
      "execution_count": 2,
      "outputs": []
    },
    {
      "cell_type": "code",
      "source": [
        "df_train_new = pd.read_csv('/content/cs-training-processed-v1.csv')\n",
        "df_train_new.head()"
      ],
      "metadata": {
        "colab": {
          "base_uri": "https://localhost:8080/",
          "height": 226
        },
        "id": "2Fzldgw2zwBB",
        "outputId": "ca01caac-4e3d-4334-8046-7cc197a63ffe"
      },
      "execution_count": 5,
      "outputs": [
        {
          "output_type": "execute_result",
          "data": {
            "text/plain": [
              "   seriousdlqin2yrs  age  numberofopencreditlinesandloans  \\\n",
              "0                 1   45                               13   \n",
              "1                 0   40                                4   \n",
              "2                 0   38                                2   \n",
              "3                 0   30                                5   \n",
              "4                 0   49                                7   \n",
              "\n",
              "   numberrealestateloansorlines  numberofdependents  age_group  prop_3059  \\\n",
              "0                             6                   2          3        1.0   \n",
              "1                             0                   1          3        0.0   \n",
              "2                             0                   0          2        0.5   \n",
              "3                             0                   0          2        0.0   \n",
              "4                             1                   0          3        1.0   \n",
              "\n",
              "   prop_6089  prop_90plus  category_pastdue  dependents_groups  rsll_groups  \\\n",
              "0        0.0          0.0                 1                  2            3   \n",
              "1        0.0          0.0                 0                  1            0   \n",
              "2        0.0          0.5                 1                  0            0   \n",
              "3        0.0          0.0                 0                  0            0   \n",
              "4        0.0          0.0                 1                  0            1   \n",
              "\n",
              "   ocll_quantile_groups  sqrt_debtratio  sqrt_monthlyincome  \\\n",
              "0                     3        0.896093           95.498691   \n",
              "1                     0        0.349108           50.990195   \n",
              "2                     0        0.291742           55.154329   \n",
              "3                     1        0.189868           57.445626   \n",
              "4                     1        0.157879          137.920267   \n",
              "\n",
              "   sqrt_revolvingutilizationofunsecuredlines  \n",
              "0                                   0.875287  \n",
              "1                                   0.978341  \n",
              "2                                   0.811283  \n",
              "3                                   0.483539  \n",
              "4                                   0.952491  "
            ],
            "text/html": [
              "\n",
              "  <div id=\"df-72bfebcb-9f3f-41e9-adb4-258bdfa65fc9\" class=\"colab-df-container\">\n",
              "    <div>\n",
              "<style scoped>\n",
              "    .dataframe tbody tr th:only-of-type {\n",
              "        vertical-align: middle;\n",
              "    }\n",
              "\n",
              "    .dataframe tbody tr th {\n",
              "        vertical-align: top;\n",
              "    }\n",
              "\n",
              "    .dataframe thead th {\n",
              "        text-align: right;\n",
              "    }\n",
              "</style>\n",
              "<table border=\"1\" class=\"dataframe\">\n",
              "  <thead>\n",
              "    <tr style=\"text-align: right;\">\n",
              "      <th></th>\n",
              "      <th>seriousdlqin2yrs</th>\n",
              "      <th>age</th>\n",
              "      <th>numberofopencreditlinesandloans</th>\n",
              "      <th>numberrealestateloansorlines</th>\n",
              "      <th>numberofdependents</th>\n",
              "      <th>age_group</th>\n",
              "      <th>prop_3059</th>\n",
              "      <th>prop_6089</th>\n",
              "      <th>prop_90plus</th>\n",
              "      <th>category_pastdue</th>\n",
              "      <th>dependents_groups</th>\n",
              "      <th>rsll_groups</th>\n",
              "      <th>ocll_quantile_groups</th>\n",
              "      <th>sqrt_debtratio</th>\n",
              "      <th>sqrt_monthlyincome</th>\n",
              "      <th>sqrt_revolvingutilizationofunsecuredlines</th>\n",
              "    </tr>\n",
              "  </thead>\n",
              "  <tbody>\n",
              "    <tr>\n",
              "      <th>0</th>\n",
              "      <td>1</td>\n",
              "      <td>45</td>\n",
              "      <td>13</td>\n",
              "      <td>6</td>\n",
              "      <td>2</td>\n",
              "      <td>3</td>\n",
              "      <td>1.0</td>\n",
              "      <td>0.0</td>\n",
              "      <td>0.0</td>\n",
              "      <td>1</td>\n",
              "      <td>2</td>\n",
              "      <td>3</td>\n",
              "      <td>3</td>\n",
              "      <td>0.896093</td>\n",
              "      <td>95.498691</td>\n",
              "      <td>0.875287</td>\n",
              "    </tr>\n",
              "    <tr>\n",
              "      <th>1</th>\n",
              "      <td>0</td>\n",
              "      <td>40</td>\n",
              "      <td>4</td>\n",
              "      <td>0</td>\n",
              "      <td>1</td>\n",
              "      <td>3</td>\n",
              "      <td>0.0</td>\n",
              "      <td>0.0</td>\n",
              "      <td>0.0</td>\n",
              "      <td>0</td>\n",
              "      <td>1</td>\n",
              "      <td>0</td>\n",
              "      <td>0</td>\n",
              "      <td>0.349108</td>\n",
              "      <td>50.990195</td>\n",
              "      <td>0.978341</td>\n",
              "    </tr>\n",
              "    <tr>\n",
              "      <th>2</th>\n",
              "      <td>0</td>\n",
              "      <td>38</td>\n",
              "      <td>2</td>\n",
              "      <td>0</td>\n",
              "      <td>0</td>\n",
              "      <td>2</td>\n",
              "      <td>0.5</td>\n",
              "      <td>0.0</td>\n",
              "      <td>0.5</td>\n",
              "      <td>1</td>\n",
              "      <td>0</td>\n",
              "      <td>0</td>\n",
              "      <td>0</td>\n",
              "      <td>0.291742</td>\n",
              "      <td>55.154329</td>\n",
              "      <td>0.811283</td>\n",
              "    </tr>\n",
              "    <tr>\n",
              "      <th>3</th>\n",
              "      <td>0</td>\n",
              "      <td>30</td>\n",
              "      <td>5</td>\n",
              "      <td>0</td>\n",
              "      <td>0</td>\n",
              "      <td>2</td>\n",
              "      <td>0.0</td>\n",
              "      <td>0.0</td>\n",
              "      <td>0.0</td>\n",
              "      <td>0</td>\n",
              "      <td>0</td>\n",
              "      <td>0</td>\n",
              "      <td>1</td>\n",
              "      <td>0.189868</td>\n",
              "      <td>57.445626</td>\n",
              "      <td>0.483539</td>\n",
              "    </tr>\n",
              "    <tr>\n",
              "      <th>4</th>\n",
              "      <td>0</td>\n",
              "      <td>49</td>\n",
              "      <td>7</td>\n",
              "      <td>1</td>\n",
              "      <td>0</td>\n",
              "      <td>3</td>\n",
              "      <td>1.0</td>\n",
              "      <td>0.0</td>\n",
              "      <td>0.0</td>\n",
              "      <td>1</td>\n",
              "      <td>0</td>\n",
              "      <td>1</td>\n",
              "      <td>1</td>\n",
              "      <td>0.157879</td>\n",
              "      <td>137.920267</td>\n",
              "      <td>0.952491</td>\n",
              "    </tr>\n",
              "  </tbody>\n",
              "</table>\n",
              "</div>\n",
              "    <div class=\"colab-df-buttons\">\n",
              "\n",
              "  <div class=\"colab-df-container\">\n",
              "    <button class=\"colab-df-convert\" onclick=\"convertToInteractive('df-72bfebcb-9f3f-41e9-adb4-258bdfa65fc9')\"\n",
              "            title=\"Convert this dataframe to an interactive table.\"\n",
              "            style=\"display:none;\">\n",
              "\n",
              "  <svg xmlns=\"http://www.w3.org/2000/svg\" height=\"24px\" viewBox=\"0 -960 960 960\">\n",
              "    <path d=\"M120-120v-720h720v720H120Zm60-500h600v-160H180v160Zm220 220h160v-160H400v160Zm0 220h160v-160H400v160ZM180-400h160v-160H180v160Zm440 0h160v-160H620v160ZM180-180h160v-160H180v160Zm440 0h160v-160H620v160Z\"/>\n",
              "  </svg>\n",
              "    </button>\n",
              "\n",
              "  <style>\n",
              "    .colab-df-container {\n",
              "      display:flex;\n",
              "      gap: 12px;\n",
              "    }\n",
              "\n",
              "    .colab-df-convert {\n",
              "      background-color: #E8F0FE;\n",
              "      border: none;\n",
              "      border-radius: 50%;\n",
              "      cursor: pointer;\n",
              "      display: none;\n",
              "      fill: #1967D2;\n",
              "      height: 32px;\n",
              "      padding: 0 0 0 0;\n",
              "      width: 32px;\n",
              "    }\n",
              "\n",
              "    .colab-df-convert:hover {\n",
              "      background-color: #E2EBFA;\n",
              "      box-shadow: 0px 1px 2px rgba(60, 64, 67, 0.3), 0px 1px 3px 1px rgba(60, 64, 67, 0.15);\n",
              "      fill: #174EA6;\n",
              "    }\n",
              "\n",
              "    .colab-df-buttons div {\n",
              "      margin-bottom: 4px;\n",
              "    }\n",
              "\n",
              "    [theme=dark] .colab-df-convert {\n",
              "      background-color: #3B4455;\n",
              "      fill: #D2E3FC;\n",
              "    }\n",
              "\n",
              "    [theme=dark] .colab-df-convert:hover {\n",
              "      background-color: #434B5C;\n",
              "      box-shadow: 0px 1px 3px 1px rgba(0, 0, 0, 0.15);\n",
              "      filter: drop-shadow(0px 1px 2px rgba(0, 0, 0, 0.3));\n",
              "      fill: #FFFFFF;\n",
              "    }\n",
              "  </style>\n",
              "\n",
              "    <script>\n",
              "      const buttonEl =\n",
              "        document.querySelector('#df-72bfebcb-9f3f-41e9-adb4-258bdfa65fc9 button.colab-df-convert');\n",
              "      buttonEl.style.display =\n",
              "        google.colab.kernel.accessAllowed ? 'block' : 'none';\n",
              "\n",
              "      async function convertToInteractive(key) {\n",
              "        const element = document.querySelector('#df-72bfebcb-9f3f-41e9-adb4-258bdfa65fc9');\n",
              "        const dataTable =\n",
              "          await google.colab.kernel.invokeFunction('convertToInteractive',\n",
              "                                                    [key], {});\n",
              "        if (!dataTable) return;\n",
              "\n",
              "        const docLinkHtml = 'Like what you see? Visit the ' +\n",
              "          '<a target=\"_blank\" href=https://colab.research.google.com/notebooks/data_table.ipynb>data table notebook</a>'\n",
              "          + ' to learn more about interactive tables.';\n",
              "        element.innerHTML = '';\n",
              "        dataTable['output_type'] = 'display_data';\n",
              "        await google.colab.output.renderOutput(dataTable, element);\n",
              "        const docLink = document.createElement('div');\n",
              "        docLink.innerHTML = docLinkHtml;\n",
              "        element.appendChild(docLink);\n",
              "      }\n",
              "    </script>\n",
              "  </div>\n",
              "\n",
              "\n",
              "<div id=\"df-5b82c024-8751-4e86-851e-e6f6e04a0dd2\">\n",
              "  <button class=\"colab-df-quickchart\" onclick=\"quickchart('df-5b82c024-8751-4e86-851e-e6f6e04a0dd2')\"\n",
              "            title=\"Suggest charts\"\n",
              "            style=\"display:none;\">\n",
              "\n",
              "<svg xmlns=\"http://www.w3.org/2000/svg\" height=\"24px\"viewBox=\"0 0 24 24\"\n",
              "     width=\"24px\">\n",
              "    <g>\n",
              "        <path d=\"M19 3H5c-1.1 0-2 .9-2 2v14c0 1.1.9 2 2 2h14c1.1 0 2-.9 2-2V5c0-1.1-.9-2-2-2zM9 17H7v-7h2v7zm4 0h-2V7h2v10zm4 0h-2v-4h2v4z\"/>\n",
              "    </g>\n",
              "</svg>\n",
              "  </button>\n",
              "\n",
              "<style>\n",
              "  .colab-df-quickchart {\n",
              "      --bg-color: #E8F0FE;\n",
              "      --fill-color: #1967D2;\n",
              "      --hover-bg-color: #E2EBFA;\n",
              "      --hover-fill-color: #174EA6;\n",
              "      --disabled-fill-color: #AAA;\n",
              "      --disabled-bg-color: #DDD;\n",
              "  }\n",
              "\n",
              "  [theme=dark] .colab-df-quickchart {\n",
              "      --bg-color: #3B4455;\n",
              "      --fill-color: #D2E3FC;\n",
              "      --hover-bg-color: #434B5C;\n",
              "      --hover-fill-color: #FFFFFF;\n",
              "      --disabled-bg-color: #3B4455;\n",
              "      --disabled-fill-color: #666;\n",
              "  }\n",
              "\n",
              "  .colab-df-quickchart {\n",
              "    background-color: var(--bg-color);\n",
              "    border: none;\n",
              "    border-radius: 50%;\n",
              "    cursor: pointer;\n",
              "    display: none;\n",
              "    fill: var(--fill-color);\n",
              "    height: 32px;\n",
              "    padding: 0;\n",
              "    width: 32px;\n",
              "  }\n",
              "\n",
              "  .colab-df-quickchart:hover {\n",
              "    background-color: var(--hover-bg-color);\n",
              "    box-shadow: 0 1px 2px rgba(60, 64, 67, 0.3), 0 1px 3px 1px rgba(60, 64, 67, 0.15);\n",
              "    fill: var(--button-hover-fill-color);\n",
              "  }\n",
              "\n",
              "  .colab-df-quickchart-complete:disabled,\n",
              "  .colab-df-quickchart-complete:disabled:hover {\n",
              "    background-color: var(--disabled-bg-color);\n",
              "    fill: var(--disabled-fill-color);\n",
              "    box-shadow: none;\n",
              "  }\n",
              "\n",
              "  .colab-df-spinner {\n",
              "    border: 2px solid var(--fill-color);\n",
              "    border-color: transparent;\n",
              "    border-bottom-color: var(--fill-color);\n",
              "    animation:\n",
              "      spin 1s steps(1) infinite;\n",
              "  }\n",
              "\n",
              "  @keyframes spin {\n",
              "    0% {\n",
              "      border-color: transparent;\n",
              "      border-bottom-color: var(--fill-color);\n",
              "      border-left-color: var(--fill-color);\n",
              "    }\n",
              "    20% {\n",
              "      border-color: transparent;\n",
              "      border-left-color: var(--fill-color);\n",
              "      border-top-color: var(--fill-color);\n",
              "    }\n",
              "    30% {\n",
              "      border-color: transparent;\n",
              "      border-left-color: var(--fill-color);\n",
              "      border-top-color: var(--fill-color);\n",
              "      border-right-color: var(--fill-color);\n",
              "    }\n",
              "    40% {\n",
              "      border-color: transparent;\n",
              "      border-right-color: var(--fill-color);\n",
              "      border-top-color: var(--fill-color);\n",
              "    }\n",
              "    60% {\n",
              "      border-color: transparent;\n",
              "      border-right-color: var(--fill-color);\n",
              "    }\n",
              "    80% {\n",
              "      border-color: transparent;\n",
              "      border-right-color: var(--fill-color);\n",
              "      border-bottom-color: var(--fill-color);\n",
              "    }\n",
              "    90% {\n",
              "      border-color: transparent;\n",
              "      border-bottom-color: var(--fill-color);\n",
              "    }\n",
              "  }\n",
              "</style>\n",
              "\n",
              "  <script>\n",
              "    async function quickchart(key) {\n",
              "      const quickchartButtonEl =\n",
              "        document.querySelector('#' + key + ' button');\n",
              "      quickchartButtonEl.disabled = true;  // To prevent multiple clicks.\n",
              "      quickchartButtonEl.classList.add('colab-df-spinner');\n",
              "      try {\n",
              "        const charts = await google.colab.kernel.invokeFunction(\n",
              "            'suggestCharts', [key], {});\n",
              "      } catch (error) {\n",
              "        console.error('Error during call to suggestCharts:', error);\n",
              "      }\n",
              "      quickchartButtonEl.classList.remove('colab-df-spinner');\n",
              "      quickchartButtonEl.classList.add('colab-df-quickchart-complete');\n",
              "    }\n",
              "    (() => {\n",
              "      let quickchartButtonEl =\n",
              "        document.querySelector('#df-5b82c024-8751-4e86-851e-e6f6e04a0dd2 button');\n",
              "      quickchartButtonEl.style.display =\n",
              "        google.colab.kernel.accessAllowed ? 'block' : 'none';\n",
              "    })();\n",
              "  </script>\n",
              "</div>\n",
              "    </div>\n",
              "  </div>\n"
            ],
            "application/vnd.google.colaboratory.intrinsic+json": {
              "type": "dataframe",
              "variable_name": "df_train_new"
            }
          },
          "metadata": {},
          "execution_count": 5
        }
      ]
    },
    {
      "cell_type": "code",
      "source": [
        "df_test = pd.read_csv('/content/cs-test-processed-v1.csv')\n",
        "df_test.head()"
      ],
      "metadata": {
        "colab": {
          "base_uri": "https://localhost:8080/",
          "height": 226
        },
        "id": "2SiS_7NsTWGd",
        "outputId": "5d67bd15-cd42-44aa-9afa-0e2f6d9422a9"
      },
      "execution_count": 3,
      "outputs": [
        {
          "output_type": "execute_result",
          "data": {
            "text/plain": [
              "   seriousdlqin2yrs  age  numberofopencreditlinesandloans  \\\n",
              "0               NaN   43                                4   \n",
              "1               NaN   57                               15   \n",
              "2               NaN   59                               12   \n",
              "3               NaN   38                                7   \n",
              "4               NaN   27                                4   \n",
              "\n",
              "   numberrealestateloansorlines  numberofdependents  age_group  prop_3059  \\\n",
              "0                             0                   0          3        0.0   \n",
              "1                             4                   2          4        0.0   \n",
              "2                             1                   2          4        0.0   \n",
              "3                             2                   0          2        1.0   \n",
              "4                             0                   1          1        0.0   \n",
              "\n",
              "   prop_6089  prop_90plus  category_pastdue  dependents_groups  rsll_groups  \\\n",
              "0        0.0          0.0                 0                  0            0   \n",
              "1        0.0          0.0                 0                  2            3   \n",
              "2        0.0          0.0                 0                  2            1   \n",
              "3        0.0          0.0                 1                  0            2   \n",
              "4        0.0          0.0                 0                  1            0   \n",
              "\n",
              "   ocll_quantile_groups  sqrt_debtratio  sqrt_monthlyincome  \\\n",
              "0                     0        0.421323           75.498344   \n",
              "1                     3        0.726111           95.608577   \n",
              "2                     3        0.829245           71.295161   \n",
              "3                     1        0.962268           56.568542   \n",
              "4                     0        0.141128           62.169124   \n",
              "\n",
              "   sqrt_revolvingutilizationofunsecuredlines  \n",
              "0                                   0.941020  \n",
              "1                                   0.680658  \n",
              "2                                   0.208027  \n",
              "3                                   0.529441  \n",
              "4                                   1.000000  "
            ],
            "text/html": [
              "\n",
              "  <div id=\"df-fd267125-723c-4bbf-bbfc-11d181d3f3ee\" class=\"colab-df-container\">\n",
              "    <div>\n",
              "<style scoped>\n",
              "    .dataframe tbody tr th:only-of-type {\n",
              "        vertical-align: middle;\n",
              "    }\n",
              "\n",
              "    .dataframe tbody tr th {\n",
              "        vertical-align: top;\n",
              "    }\n",
              "\n",
              "    .dataframe thead th {\n",
              "        text-align: right;\n",
              "    }\n",
              "</style>\n",
              "<table border=\"1\" class=\"dataframe\">\n",
              "  <thead>\n",
              "    <tr style=\"text-align: right;\">\n",
              "      <th></th>\n",
              "      <th>seriousdlqin2yrs</th>\n",
              "      <th>age</th>\n",
              "      <th>numberofopencreditlinesandloans</th>\n",
              "      <th>numberrealestateloansorlines</th>\n",
              "      <th>numberofdependents</th>\n",
              "      <th>age_group</th>\n",
              "      <th>prop_3059</th>\n",
              "      <th>prop_6089</th>\n",
              "      <th>prop_90plus</th>\n",
              "      <th>category_pastdue</th>\n",
              "      <th>dependents_groups</th>\n",
              "      <th>rsll_groups</th>\n",
              "      <th>ocll_quantile_groups</th>\n",
              "      <th>sqrt_debtratio</th>\n",
              "      <th>sqrt_monthlyincome</th>\n",
              "      <th>sqrt_revolvingutilizationofunsecuredlines</th>\n",
              "    </tr>\n",
              "  </thead>\n",
              "  <tbody>\n",
              "    <tr>\n",
              "      <th>0</th>\n",
              "      <td>NaN</td>\n",
              "      <td>43</td>\n",
              "      <td>4</td>\n",
              "      <td>0</td>\n",
              "      <td>0</td>\n",
              "      <td>3</td>\n",
              "      <td>0.0</td>\n",
              "      <td>0.0</td>\n",
              "      <td>0.0</td>\n",
              "      <td>0</td>\n",
              "      <td>0</td>\n",
              "      <td>0</td>\n",
              "      <td>0</td>\n",
              "      <td>0.421323</td>\n",
              "      <td>75.498344</td>\n",
              "      <td>0.941020</td>\n",
              "    </tr>\n",
              "    <tr>\n",
              "      <th>1</th>\n",
              "      <td>NaN</td>\n",
              "      <td>57</td>\n",
              "      <td>15</td>\n",
              "      <td>4</td>\n",
              "      <td>2</td>\n",
              "      <td>4</td>\n",
              "      <td>0.0</td>\n",
              "      <td>0.0</td>\n",
              "      <td>0.0</td>\n",
              "      <td>0</td>\n",
              "      <td>2</td>\n",
              "      <td>3</td>\n",
              "      <td>3</td>\n",
              "      <td>0.726111</td>\n",
              "      <td>95.608577</td>\n",
              "      <td>0.680658</td>\n",
              "    </tr>\n",
              "    <tr>\n",
              "      <th>2</th>\n",
              "      <td>NaN</td>\n",
              "      <td>59</td>\n",
              "      <td>12</td>\n",
              "      <td>1</td>\n",
              "      <td>2</td>\n",
              "      <td>4</td>\n",
              "      <td>0.0</td>\n",
              "      <td>0.0</td>\n",
              "      <td>0.0</td>\n",
              "      <td>0</td>\n",
              "      <td>2</td>\n",
              "      <td>1</td>\n",
              "      <td>3</td>\n",
              "      <td>0.829245</td>\n",
              "      <td>71.295161</td>\n",
              "      <td>0.208027</td>\n",
              "    </tr>\n",
              "    <tr>\n",
              "      <th>3</th>\n",
              "      <td>NaN</td>\n",
              "      <td>38</td>\n",
              "      <td>7</td>\n",
              "      <td>2</td>\n",
              "      <td>0</td>\n",
              "      <td>2</td>\n",
              "      <td>1.0</td>\n",
              "      <td>0.0</td>\n",
              "      <td>0.0</td>\n",
              "      <td>1</td>\n",
              "      <td>0</td>\n",
              "      <td>2</td>\n",
              "      <td>1</td>\n",
              "      <td>0.962268</td>\n",
              "      <td>56.568542</td>\n",
              "      <td>0.529441</td>\n",
              "    </tr>\n",
              "    <tr>\n",
              "      <th>4</th>\n",
              "      <td>NaN</td>\n",
              "      <td>27</td>\n",
              "      <td>4</td>\n",
              "      <td>0</td>\n",
              "      <td>1</td>\n",
              "      <td>1</td>\n",
              "      <td>0.0</td>\n",
              "      <td>0.0</td>\n",
              "      <td>0.0</td>\n",
              "      <td>0</td>\n",
              "      <td>1</td>\n",
              "      <td>0</td>\n",
              "      <td>0</td>\n",
              "      <td>0.141128</td>\n",
              "      <td>62.169124</td>\n",
              "      <td>1.000000</td>\n",
              "    </tr>\n",
              "  </tbody>\n",
              "</table>\n",
              "</div>\n",
              "    <div class=\"colab-df-buttons\">\n",
              "\n",
              "  <div class=\"colab-df-container\">\n",
              "    <button class=\"colab-df-convert\" onclick=\"convertToInteractive('df-fd267125-723c-4bbf-bbfc-11d181d3f3ee')\"\n",
              "            title=\"Convert this dataframe to an interactive table.\"\n",
              "            style=\"display:none;\">\n",
              "\n",
              "  <svg xmlns=\"http://www.w3.org/2000/svg\" height=\"24px\" viewBox=\"0 -960 960 960\">\n",
              "    <path d=\"M120-120v-720h720v720H120Zm60-500h600v-160H180v160Zm220 220h160v-160H400v160Zm0 220h160v-160H400v160ZM180-400h160v-160H180v160Zm440 0h160v-160H620v160ZM180-180h160v-160H180v160Zm440 0h160v-160H620v160Z\"/>\n",
              "  </svg>\n",
              "    </button>\n",
              "\n",
              "  <style>\n",
              "    .colab-df-container {\n",
              "      display:flex;\n",
              "      gap: 12px;\n",
              "    }\n",
              "\n",
              "    .colab-df-convert {\n",
              "      background-color: #E8F0FE;\n",
              "      border: none;\n",
              "      border-radius: 50%;\n",
              "      cursor: pointer;\n",
              "      display: none;\n",
              "      fill: #1967D2;\n",
              "      height: 32px;\n",
              "      padding: 0 0 0 0;\n",
              "      width: 32px;\n",
              "    }\n",
              "\n",
              "    .colab-df-convert:hover {\n",
              "      background-color: #E2EBFA;\n",
              "      box-shadow: 0px 1px 2px rgba(60, 64, 67, 0.3), 0px 1px 3px 1px rgba(60, 64, 67, 0.15);\n",
              "      fill: #174EA6;\n",
              "    }\n",
              "\n",
              "    .colab-df-buttons div {\n",
              "      margin-bottom: 4px;\n",
              "    }\n",
              "\n",
              "    [theme=dark] .colab-df-convert {\n",
              "      background-color: #3B4455;\n",
              "      fill: #D2E3FC;\n",
              "    }\n",
              "\n",
              "    [theme=dark] .colab-df-convert:hover {\n",
              "      background-color: #434B5C;\n",
              "      box-shadow: 0px 1px 3px 1px rgba(0, 0, 0, 0.15);\n",
              "      filter: drop-shadow(0px 1px 2px rgba(0, 0, 0, 0.3));\n",
              "      fill: #FFFFFF;\n",
              "    }\n",
              "  </style>\n",
              "\n",
              "    <script>\n",
              "      const buttonEl =\n",
              "        document.querySelector('#df-fd267125-723c-4bbf-bbfc-11d181d3f3ee button.colab-df-convert');\n",
              "      buttonEl.style.display =\n",
              "        google.colab.kernel.accessAllowed ? 'block' : 'none';\n",
              "\n",
              "      async function convertToInteractive(key) {\n",
              "        const element = document.querySelector('#df-fd267125-723c-4bbf-bbfc-11d181d3f3ee');\n",
              "        const dataTable =\n",
              "          await google.colab.kernel.invokeFunction('convertToInteractive',\n",
              "                                                    [key], {});\n",
              "        if (!dataTable) return;\n",
              "\n",
              "        const docLinkHtml = 'Like what you see? Visit the ' +\n",
              "          '<a target=\"_blank\" href=https://colab.research.google.com/notebooks/data_table.ipynb>data table notebook</a>'\n",
              "          + ' to learn more about interactive tables.';\n",
              "        element.innerHTML = '';\n",
              "        dataTable['output_type'] = 'display_data';\n",
              "        await google.colab.output.renderOutput(dataTable, element);\n",
              "        const docLink = document.createElement('div');\n",
              "        docLink.innerHTML = docLinkHtml;\n",
              "        element.appendChild(docLink);\n",
              "      }\n",
              "    </script>\n",
              "  </div>\n",
              "\n",
              "\n",
              "<div id=\"df-cc24d0d1-fab4-4244-a698-e2a6f40ff338\">\n",
              "  <button class=\"colab-df-quickchart\" onclick=\"quickchart('df-cc24d0d1-fab4-4244-a698-e2a6f40ff338')\"\n",
              "            title=\"Suggest charts\"\n",
              "            style=\"display:none;\">\n",
              "\n",
              "<svg xmlns=\"http://www.w3.org/2000/svg\" height=\"24px\"viewBox=\"0 0 24 24\"\n",
              "     width=\"24px\">\n",
              "    <g>\n",
              "        <path d=\"M19 3H5c-1.1 0-2 .9-2 2v14c0 1.1.9 2 2 2h14c1.1 0 2-.9 2-2V5c0-1.1-.9-2-2-2zM9 17H7v-7h2v7zm4 0h-2V7h2v10zm4 0h-2v-4h2v4z\"/>\n",
              "    </g>\n",
              "</svg>\n",
              "  </button>\n",
              "\n",
              "<style>\n",
              "  .colab-df-quickchart {\n",
              "      --bg-color: #E8F0FE;\n",
              "      --fill-color: #1967D2;\n",
              "      --hover-bg-color: #E2EBFA;\n",
              "      --hover-fill-color: #174EA6;\n",
              "      --disabled-fill-color: #AAA;\n",
              "      --disabled-bg-color: #DDD;\n",
              "  }\n",
              "\n",
              "  [theme=dark] .colab-df-quickchart {\n",
              "      --bg-color: #3B4455;\n",
              "      --fill-color: #D2E3FC;\n",
              "      --hover-bg-color: #434B5C;\n",
              "      --hover-fill-color: #FFFFFF;\n",
              "      --disabled-bg-color: #3B4455;\n",
              "      --disabled-fill-color: #666;\n",
              "  }\n",
              "\n",
              "  .colab-df-quickchart {\n",
              "    background-color: var(--bg-color);\n",
              "    border: none;\n",
              "    border-radius: 50%;\n",
              "    cursor: pointer;\n",
              "    display: none;\n",
              "    fill: var(--fill-color);\n",
              "    height: 32px;\n",
              "    padding: 0;\n",
              "    width: 32px;\n",
              "  }\n",
              "\n",
              "  .colab-df-quickchart:hover {\n",
              "    background-color: var(--hover-bg-color);\n",
              "    box-shadow: 0 1px 2px rgba(60, 64, 67, 0.3), 0 1px 3px 1px rgba(60, 64, 67, 0.15);\n",
              "    fill: var(--button-hover-fill-color);\n",
              "  }\n",
              "\n",
              "  .colab-df-quickchart-complete:disabled,\n",
              "  .colab-df-quickchart-complete:disabled:hover {\n",
              "    background-color: var(--disabled-bg-color);\n",
              "    fill: var(--disabled-fill-color);\n",
              "    box-shadow: none;\n",
              "  }\n",
              "\n",
              "  .colab-df-spinner {\n",
              "    border: 2px solid var(--fill-color);\n",
              "    border-color: transparent;\n",
              "    border-bottom-color: var(--fill-color);\n",
              "    animation:\n",
              "      spin 1s steps(1) infinite;\n",
              "  }\n",
              "\n",
              "  @keyframes spin {\n",
              "    0% {\n",
              "      border-color: transparent;\n",
              "      border-bottom-color: var(--fill-color);\n",
              "      border-left-color: var(--fill-color);\n",
              "    }\n",
              "    20% {\n",
              "      border-color: transparent;\n",
              "      border-left-color: var(--fill-color);\n",
              "      border-top-color: var(--fill-color);\n",
              "    }\n",
              "    30% {\n",
              "      border-color: transparent;\n",
              "      border-left-color: var(--fill-color);\n",
              "      border-top-color: var(--fill-color);\n",
              "      border-right-color: var(--fill-color);\n",
              "    }\n",
              "    40% {\n",
              "      border-color: transparent;\n",
              "      border-right-color: var(--fill-color);\n",
              "      border-top-color: var(--fill-color);\n",
              "    }\n",
              "    60% {\n",
              "      border-color: transparent;\n",
              "      border-right-color: var(--fill-color);\n",
              "    }\n",
              "    80% {\n",
              "      border-color: transparent;\n",
              "      border-right-color: var(--fill-color);\n",
              "      border-bottom-color: var(--fill-color);\n",
              "    }\n",
              "    90% {\n",
              "      border-color: transparent;\n",
              "      border-bottom-color: var(--fill-color);\n",
              "    }\n",
              "  }\n",
              "</style>\n",
              "\n",
              "  <script>\n",
              "    async function quickchart(key) {\n",
              "      const quickchartButtonEl =\n",
              "        document.querySelector('#' + key + ' button');\n",
              "      quickchartButtonEl.disabled = true;  // To prevent multiple clicks.\n",
              "      quickchartButtonEl.classList.add('colab-df-spinner');\n",
              "      try {\n",
              "        const charts = await google.colab.kernel.invokeFunction(\n",
              "            'suggestCharts', [key], {});\n",
              "      } catch (error) {\n",
              "        console.error('Error during call to suggestCharts:', error);\n",
              "      }\n",
              "      quickchartButtonEl.classList.remove('colab-df-spinner');\n",
              "      quickchartButtonEl.classList.add('colab-df-quickchart-complete');\n",
              "    }\n",
              "    (() => {\n",
              "      let quickchartButtonEl =\n",
              "        document.querySelector('#df-cc24d0d1-fab4-4244-a698-e2a6f40ff338 button');\n",
              "      quickchartButtonEl.style.display =\n",
              "        google.colab.kernel.accessAllowed ? 'block' : 'none';\n",
              "    })();\n",
              "  </script>\n",
              "</div>\n",
              "    </div>\n",
              "  </div>\n"
            ],
            "application/vnd.google.colaboratory.intrinsic+json": {
              "type": "dataframe",
              "variable_name": "df_test"
            }
          },
          "metadata": {},
          "execution_count": 3
        }
      ]
    },
    {
      "cell_type": "code",
      "source": [
        "df_train_new.isna().sum()"
      ],
      "metadata": {
        "colab": {
          "base_uri": "https://localhost:8080/"
        },
        "id": "kLJOyt-5b21T",
        "outputId": "8278ea79-d0ef-4e45-a6a1-29815179f6d2"
      },
      "execution_count": 11,
      "outputs": [
        {
          "output_type": "execute_result",
          "data": {
            "text/plain": [
              "seriousdlqin2yrs                             0\n",
              "age                                          0\n",
              "numberofopencreditlinesandloans              0\n",
              "numberrealestateloansorlines                 0\n",
              "numberofdependents                           0\n",
              "age_group                                    0\n",
              "prop_3059                                    0\n",
              "prop_6089                                    0\n",
              "prop_90plus                                  0\n",
              "category_pastdue                             0\n",
              "dependents_groups                            0\n",
              "rsll_groups                                  0\n",
              "ocll_quantile_groups                         0\n",
              "sqrt_debtratio                               0\n",
              "sqrt_monthlyincome                           0\n",
              "sqrt_revolvingutilizationofunsecuredlines    0\n",
              "dtype: int64"
            ]
          },
          "metadata": {},
          "execution_count": 11
        }
      ]
    },
    {
      "cell_type": "code",
      "source": [],
      "metadata": {
        "id": "SZcmwDDgdJ1E"
      },
      "execution_count": null,
      "outputs": []
    },
    {
      "cell_type": "markdown",
      "source": [
        "### Basic Classifier"
      ],
      "metadata": {
        "id": "65jX0YnsiIiO"
      }
    },
    {
      "cell_type": "markdown",
      "source": [
        "Firstly, we want to try some basic classifiers without parameter-tuning, to learn about the basic performance of these models and choose which model is suitable for further tunning."
      ],
      "metadata": {
        "id": "FhBR0kGPiUny"
      }
    },
    {
      "cell_type": "code",
      "source": [
        "from sklearn.ensemble import AdaBoostClassifier, GradientBoostingClassifier\n",
        "from sklearn.model_selection import train_test_split\n",
        "from sklearn.utils import resample\n",
        "from sklearn.metrics import precision_score, recall_score, accuracy_score, roc_auc_score"
      ],
      "metadata": {
        "id": "Ws36b-0Z4U2s"
      },
      "execution_count": 4,
      "outputs": []
    },
    {
      "cell_type": "code",
      "source": [
        "X = df_train_new.iloc[:, 1:]\n",
        "y = df_train_new['seriousdlqin2yrs']\n",
        "\n",
        "X_train, X_test, y_train, y_test = train_test_split(X, y, test_size=0.2, random_state=3011)"
      ],
      "metadata": {
        "id": "Di008GLz1qNF"
      },
      "execution_count": 6,
      "outputs": []
    },
    {
      "cell_type": "markdown",
      "source": [
        "We evaluate the performance of the model with precision, recall, accuracy, and roc_auc score.\n",
        "\n",
        "- $Precision = \\frac{TP}{TP+FP}$\n",
        "\n",
        "Precision measures the proportion of correctly predicted positive instances out of all instances predicted as positive.  It focuses on the quality of positive predictions.\n",
        "\n",
        "- $Recall = \\frac{TP}{TP+FN}$\n",
        "\n",
        "Recall measures the proportion of correctly predicted positive instances out of all actual positive instances. It focuses on the ability to find all positive instances.\n",
        "\n",
        "- $Accuracy = \\frac{TP+TN}{TP+TN+FP+FN}$\n",
        "\n",
        "Accuracy measures the overall correctness of the classifier's predictions. It considers both true positives and true negatives. However, it can be misleading when the classes are imbalanced.\n",
        "\n",
        "- $ROC-AUC$\n",
        "\n",
        " It measures the ability of the model to distinguish between positive and negative instances across different probability thresholds."
      ],
      "metadata": {
        "id": "c8gT6ESbnZ9D"
      }
    },
    {
      "cell_type": "code",
      "source": [
        "def evaluate_metrics(model, X_test, y_test):\n",
        "    # Predict on the test set\n",
        "    y_pred = model.predict(X_test)\n",
        "    y_pred_prob = model.predict_proba(X_test)[:, 1]\n",
        "\n",
        "    # Calculate evaluation metrics\n",
        "    precision = precision_score(y_test, y_pred)\n",
        "    recall = recall_score(y_test, y_pred)\n",
        "    accuracy = accuracy_score(y_test, y_pred)\n",
        "    roc_auc = roc_auc_score(y_test, y_pred_prob)\n",
        "\n",
        "    print(f'precision: {precision}')\n",
        "    print(f'recall: {recall}')\n",
        "    print(f'accuracy: {accuracy}')\n",
        "    print(f'roc_auc: {roc_auc}')\n",
        "\n",
        "    # Return the evaluation metrics\n",
        "    return precision, recall, accuracy, roc_auc"
      ],
      "metadata": {
        "id": "aJbg_RvprtYs"
      },
      "execution_count": 7,
      "outputs": []
    },
    {
      "cell_type": "markdown",
      "source": [
        "#### AdaBoosting"
      ],
      "metadata": {
        "id": "mR-eS8bBivcE"
      }
    },
    {
      "cell_type": "markdown",
      "source": [
        "The first baseline model is the AdaBoosting classifier. The basic idea behind AdaBoost is to train a sequence of weak classifiers iteratively, where each subsequent classifier focuses on the instances that were misclassified by the previous classifiers. This iterative process helps to improve the overall predictive performance.\n",
        "\n",
        "It is capable of handling complex datasets and improving performance compared to individual weak learners. However, it is sensitive to noisy data and outliers.\n",
        "\n",
        "The performance of AdaBoosting in the original notebook is as follows.\n",
        "\n",
        "- precision: 0.5245\n",
        "- recall: 0.1977\n",
        "- accuracy: 0.9347\n",
        "- roc_auc: 0.8599"
      ],
      "metadata": {
        "id": "KQCQr3p-rZ5i"
      }
    },
    {
      "cell_type": "markdown",
      "source": [
        "Then we fit the AdaBoosting model with data processed with revised feature engineering methods. All of these four metrics are better than before."
      ],
      "metadata": {
        "id": "Sa4OeOBjr2Qq"
      }
    },
    {
      "cell_type": "code",
      "source": [
        "ada = AdaBoostClassifier(n_estimators=200, learning_rate=1.0)\n",
        "ada.fit(X_train, y_train)"
      ],
      "metadata": {
        "colab": {
          "base_uri": "https://localhost:8080/",
          "height": 75
        },
        "id": "bokyzjLR5LGh",
        "outputId": "66e5865d-353f-4b85-8105-1c2ab10c0004"
      },
      "execution_count": 8,
      "outputs": [
        {
          "output_type": "execute_result",
          "data": {
            "text/plain": [
              "AdaBoostClassifier(n_estimators=200)"
            ],
            "text/html": [
              "<style>#sk-container-id-1 {color: black;background-color: white;}#sk-container-id-1 pre{padding: 0;}#sk-container-id-1 div.sk-toggleable {background-color: white;}#sk-container-id-1 label.sk-toggleable__label {cursor: pointer;display: block;width: 100%;margin-bottom: 0;padding: 0.3em;box-sizing: border-box;text-align: center;}#sk-container-id-1 label.sk-toggleable__label-arrow:before {content: \"▸\";float: left;margin-right: 0.25em;color: #696969;}#sk-container-id-1 label.sk-toggleable__label-arrow:hover:before {color: black;}#sk-container-id-1 div.sk-estimator:hover label.sk-toggleable__label-arrow:before {color: black;}#sk-container-id-1 div.sk-toggleable__content {max-height: 0;max-width: 0;overflow: hidden;text-align: left;background-color: #f0f8ff;}#sk-container-id-1 div.sk-toggleable__content pre {margin: 0.2em;color: black;border-radius: 0.25em;background-color: #f0f8ff;}#sk-container-id-1 input.sk-toggleable__control:checked~div.sk-toggleable__content {max-height: 200px;max-width: 100%;overflow: auto;}#sk-container-id-1 input.sk-toggleable__control:checked~label.sk-toggleable__label-arrow:before {content: \"▾\";}#sk-container-id-1 div.sk-estimator input.sk-toggleable__control:checked~label.sk-toggleable__label {background-color: #d4ebff;}#sk-container-id-1 div.sk-label input.sk-toggleable__control:checked~label.sk-toggleable__label {background-color: #d4ebff;}#sk-container-id-1 input.sk-hidden--visually {border: 0;clip: rect(1px 1px 1px 1px);clip: rect(1px, 1px, 1px, 1px);height: 1px;margin: -1px;overflow: hidden;padding: 0;position: absolute;width: 1px;}#sk-container-id-1 div.sk-estimator {font-family: monospace;background-color: #f0f8ff;border: 1px dotted black;border-radius: 0.25em;box-sizing: border-box;margin-bottom: 0.5em;}#sk-container-id-1 div.sk-estimator:hover {background-color: #d4ebff;}#sk-container-id-1 div.sk-parallel-item::after {content: \"\";width: 100%;border-bottom: 1px solid gray;flex-grow: 1;}#sk-container-id-1 div.sk-label:hover label.sk-toggleable__label {background-color: #d4ebff;}#sk-container-id-1 div.sk-serial::before {content: \"\";position: absolute;border-left: 1px solid gray;box-sizing: border-box;top: 0;bottom: 0;left: 50%;z-index: 0;}#sk-container-id-1 div.sk-serial {display: flex;flex-direction: column;align-items: center;background-color: white;padding-right: 0.2em;padding-left: 0.2em;position: relative;}#sk-container-id-1 div.sk-item {position: relative;z-index: 1;}#sk-container-id-1 div.sk-parallel {display: flex;align-items: stretch;justify-content: center;background-color: white;position: relative;}#sk-container-id-1 div.sk-item::before, #sk-container-id-1 div.sk-parallel-item::before {content: \"\";position: absolute;border-left: 1px solid gray;box-sizing: border-box;top: 0;bottom: 0;left: 50%;z-index: -1;}#sk-container-id-1 div.sk-parallel-item {display: flex;flex-direction: column;z-index: 1;position: relative;background-color: white;}#sk-container-id-1 div.sk-parallel-item:first-child::after {align-self: flex-end;width: 50%;}#sk-container-id-1 div.sk-parallel-item:last-child::after {align-self: flex-start;width: 50%;}#sk-container-id-1 div.sk-parallel-item:only-child::after {width: 0;}#sk-container-id-1 div.sk-dashed-wrapped {border: 1px dashed gray;margin: 0 0.4em 0.5em 0.4em;box-sizing: border-box;padding-bottom: 0.4em;background-color: white;}#sk-container-id-1 div.sk-label label {font-family: monospace;font-weight: bold;display: inline-block;line-height: 1.2em;}#sk-container-id-1 div.sk-label-container {text-align: center;}#sk-container-id-1 div.sk-container {/* jupyter's `normalize.less` sets `[hidden] { display: none; }` but bootstrap.min.css set `[hidden] { display: none !important; }` so we also need the `!important` here to be able to override the default hidden behavior on the sphinx rendered scikit-learn.org. See: https://github.com/scikit-learn/scikit-learn/issues/21755 */display: inline-block !important;position: relative;}#sk-container-id-1 div.sk-text-repr-fallback {display: none;}</style><div id=\"sk-container-id-1\" class=\"sk-top-container\"><div class=\"sk-text-repr-fallback\"><pre>AdaBoostClassifier(n_estimators=200)</pre><b>In a Jupyter environment, please rerun this cell to show the HTML representation or trust the notebook. <br />On GitHub, the HTML representation is unable to render, please try loading this page with nbviewer.org.</b></div><div class=\"sk-container\" hidden><div class=\"sk-item\"><div class=\"sk-estimator sk-toggleable\"><input class=\"sk-toggleable__control sk-hidden--visually\" id=\"sk-estimator-id-1\" type=\"checkbox\" checked><label for=\"sk-estimator-id-1\" class=\"sk-toggleable__label sk-toggleable__label-arrow\">AdaBoostClassifier</label><div class=\"sk-toggleable__content\"><pre>AdaBoostClassifier(n_estimators=200)</pre></div></div></div></div></div>"
            ]
          },
          "metadata": {},
          "execution_count": 8
        }
      ]
    },
    {
      "cell_type": "code",
      "source": [
        "precision_ada, recall_ada, accuracy_ada, roc_auc_ada = evaluate_metrics(ada, X_test, y_test)"
      ],
      "metadata": {
        "colab": {
          "base_uri": "https://localhost:8080/"
        },
        "id": "qSaWnqDLu8v-",
        "outputId": "02ac1a18-f85d-4f10-d871-813355c47217"
      },
      "execution_count": 12,
      "outputs": [
        {
          "output_type": "stream",
          "name": "stdout",
          "text": [
            "precision: 0.5551982851018221\n",
            "recall: 0.2070343725019984\n",
            "accuracy: 0.9360266666666667\n",
            "roc_auc: 0.8664693766445213\n"
          ]
        }
      ]
    },
    {
      "cell_type": "code",
      "source": [
        "precision_ada, recall_ada, accuracy_ada, roc_auc_ada = evaluate_metrics(ada, X_train, y_train)"
      ],
      "metadata": {
        "colab": {
          "base_uri": "https://localhost:8080/"
        },
        "id": "4T3Q308HXMNe",
        "outputId": "ea6423c5-7672-48b2-be83-61633f461f3a"
      },
      "execution_count": 18,
      "outputs": [
        {
          "output_type": "stream",
          "name": "stdout",
          "text": [
            "precision: 0.5693693693693693\n",
            "recall: 0.2099946836788942\n",
            "accuracy: 0.9365416581480724\n",
            "roc_auc: 0.8658117081622051\n"
          ]
        }
      ]
    },
    {
      "cell_type": "code",
      "source": [
        "precision_ada, recall_ada, accuracy_ada, roc_auc_ada = evaluate_metrics(ada, X_test, y_test)"
      ],
      "metadata": {
        "colab": {
          "base_uri": "https://localhost:8080/"
        },
        "id": "Zob6hjJp5ac1",
        "outputId": "9999aba4-1fc4-4ac2-9845-02b4372e8165"
      },
      "execution_count": 9,
      "outputs": [
        {
          "output_type": "stream",
          "name": "stdout",
          "text": [
            "precision: 0.5575342465753425\n",
            "recall: 0.2027902341803687\n",
            "accuracy: 0.9359\n",
            "roc_auc: 0.8647959199565712\n"
          ]
        }
      ]
    },
    {
      "cell_type": "markdown",
      "source": [
        "#### GradientBoosting"
      ],
      "metadata": {
        "id": "9LobCAX7iyeb"
      }
    },
    {
      "cell_type": "markdown",
      "source": [
        "The second baseline model is the GradientBoosting classifier. The difference between GradientBoosting and AdaBoosting is that GradientBoosting uses a gradient descent optimization algorithm to minimize the loss function during each iteration.\n",
        "\n",
        "The performance of GradientBoosting in the original notebook is as follows.\n",
        "\n",
        "- precision: 0.5486\n",
        "- recall: 0.1832\n",
        "- accuracy: 0.9357\n",
        "- roc_auc: 0.8632\n"
      ],
      "metadata": {
        "id": "T-398oNltMXa"
      }
    },
    {
      "cell_type": "markdown",
      "source": [
        "Then we fit the GradientBoosting model with data processed with revised feature engineering methods. All of these four metrics are better than before."
      ],
      "metadata": {
        "id": "web3ZcyztnSV"
      }
    },
    {
      "cell_type": "code",
      "source": [
        "gb = GradientBoostingClassifier(loss='log_loss', learning_rate=0.1, n_estimators=200, subsample=1.0,\n",
        "                                min_samples_split=2, min_samples_leaf=1, min_weight_fraction_leaf=0.0, max_depth=3,\n",
        "                                init=None, random_state=None, max_features=None, verbose=0)\n",
        "gb.fit(X_train, y_train)"
      ],
      "metadata": {
        "colab": {
          "base_uri": "https://localhost:8080/",
          "height": 75
        },
        "id": "VjiMcGz36jiJ",
        "outputId": "628fb34d-44a1-46fd-a168-d97aeb31488f"
      },
      "execution_count": 9,
      "outputs": [
        {
          "output_type": "execute_result",
          "data": {
            "text/plain": [
              "GradientBoostingClassifier(n_estimators=200)"
            ],
            "text/html": [
              "<style>#sk-container-id-2 {color: black;background-color: white;}#sk-container-id-2 pre{padding: 0;}#sk-container-id-2 div.sk-toggleable {background-color: white;}#sk-container-id-2 label.sk-toggleable__label {cursor: pointer;display: block;width: 100%;margin-bottom: 0;padding: 0.3em;box-sizing: border-box;text-align: center;}#sk-container-id-2 label.sk-toggleable__label-arrow:before {content: \"▸\";float: left;margin-right: 0.25em;color: #696969;}#sk-container-id-2 label.sk-toggleable__label-arrow:hover:before {color: black;}#sk-container-id-2 div.sk-estimator:hover label.sk-toggleable__label-arrow:before {color: black;}#sk-container-id-2 div.sk-toggleable__content {max-height: 0;max-width: 0;overflow: hidden;text-align: left;background-color: #f0f8ff;}#sk-container-id-2 div.sk-toggleable__content pre {margin: 0.2em;color: black;border-radius: 0.25em;background-color: #f0f8ff;}#sk-container-id-2 input.sk-toggleable__control:checked~div.sk-toggleable__content {max-height: 200px;max-width: 100%;overflow: auto;}#sk-container-id-2 input.sk-toggleable__control:checked~label.sk-toggleable__label-arrow:before {content: \"▾\";}#sk-container-id-2 div.sk-estimator input.sk-toggleable__control:checked~label.sk-toggleable__label {background-color: #d4ebff;}#sk-container-id-2 div.sk-label input.sk-toggleable__control:checked~label.sk-toggleable__label {background-color: #d4ebff;}#sk-container-id-2 input.sk-hidden--visually {border: 0;clip: rect(1px 1px 1px 1px);clip: rect(1px, 1px, 1px, 1px);height: 1px;margin: -1px;overflow: hidden;padding: 0;position: absolute;width: 1px;}#sk-container-id-2 div.sk-estimator {font-family: monospace;background-color: #f0f8ff;border: 1px dotted black;border-radius: 0.25em;box-sizing: border-box;margin-bottom: 0.5em;}#sk-container-id-2 div.sk-estimator:hover {background-color: #d4ebff;}#sk-container-id-2 div.sk-parallel-item::after {content: \"\";width: 100%;border-bottom: 1px solid gray;flex-grow: 1;}#sk-container-id-2 div.sk-label:hover label.sk-toggleable__label {background-color: #d4ebff;}#sk-container-id-2 div.sk-serial::before {content: \"\";position: absolute;border-left: 1px solid gray;box-sizing: border-box;top: 0;bottom: 0;left: 50%;z-index: 0;}#sk-container-id-2 div.sk-serial {display: flex;flex-direction: column;align-items: center;background-color: white;padding-right: 0.2em;padding-left: 0.2em;position: relative;}#sk-container-id-2 div.sk-item {position: relative;z-index: 1;}#sk-container-id-2 div.sk-parallel {display: flex;align-items: stretch;justify-content: center;background-color: white;position: relative;}#sk-container-id-2 div.sk-item::before, #sk-container-id-2 div.sk-parallel-item::before {content: \"\";position: absolute;border-left: 1px solid gray;box-sizing: border-box;top: 0;bottom: 0;left: 50%;z-index: -1;}#sk-container-id-2 div.sk-parallel-item {display: flex;flex-direction: column;z-index: 1;position: relative;background-color: white;}#sk-container-id-2 div.sk-parallel-item:first-child::after {align-self: flex-end;width: 50%;}#sk-container-id-2 div.sk-parallel-item:last-child::after {align-self: flex-start;width: 50%;}#sk-container-id-2 div.sk-parallel-item:only-child::after {width: 0;}#sk-container-id-2 div.sk-dashed-wrapped {border: 1px dashed gray;margin: 0 0.4em 0.5em 0.4em;box-sizing: border-box;padding-bottom: 0.4em;background-color: white;}#sk-container-id-2 div.sk-label label {font-family: monospace;font-weight: bold;display: inline-block;line-height: 1.2em;}#sk-container-id-2 div.sk-label-container {text-align: center;}#sk-container-id-2 div.sk-container {/* jupyter's `normalize.less` sets `[hidden] { display: none; }` but bootstrap.min.css set `[hidden] { display: none !important; }` so we also need the `!important` here to be able to override the default hidden behavior on the sphinx rendered scikit-learn.org. See: https://github.com/scikit-learn/scikit-learn/issues/21755 */display: inline-block !important;position: relative;}#sk-container-id-2 div.sk-text-repr-fallback {display: none;}</style><div id=\"sk-container-id-2\" class=\"sk-top-container\"><div class=\"sk-text-repr-fallback\"><pre>GradientBoostingClassifier(n_estimators=200)</pre><b>In a Jupyter environment, please rerun this cell to show the HTML representation or trust the notebook. <br />On GitHub, the HTML representation is unable to render, please try loading this page with nbviewer.org.</b></div><div class=\"sk-container\" hidden><div class=\"sk-item\"><div class=\"sk-estimator sk-toggleable\"><input class=\"sk-toggleable__control sk-hidden--visually\" id=\"sk-estimator-id-2\" type=\"checkbox\" checked><label for=\"sk-estimator-id-2\" class=\"sk-toggleable__label sk-toggleable__label-arrow\">GradientBoostingClassifier</label><div class=\"sk-toggleable__content\"><pre>GradientBoostingClassifier(n_estimators=200)</pre></div></div></div></div></div>"
            ]
          },
          "metadata": {},
          "execution_count": 9
        }
      ]
    },
    {
      "cell_type": "code",
      "source": [
        "precision_gb, recall_gb, accuracy_gb, roc_auc_gb = evaluate_metrics(gb, X_test, y_test)"
      ],
      "metadata": {
        "colab": {
          "base_uri": "https://localhost:8080/"
        },
        "id": "LymD70dmvc3_",
        "outputId": "bb471129-f415-4431-a0fd-a96b58f72318"
      },
      "execution_count": 14,
      "outputs": [
        {
          "output_type": "stream",
          "name": "stdout",
          "text": [
            "precision: 0.580607476635514\n",
            "recall: 0.19864108713029577\n",
            "accuracy: 0.93696\n",
            "roc_auc: 0.8708901899567266\n"
          ]
        }
      ]
    },
    {
      "cell_type": "code",
      "source": [
        "precision_gb, recall_gb, accuracy_gb, roc_auc_gb = evaluate_metrics(gb, X_train, y_train)"
      ],
      "metadata": {
        "colab": {
          "base_uri": "https://localhost:8080/"
        },
        "id": "7YdoVcBRXPN6",
        "outputId": "a046cfe4-dc55-45d2-ed85-e9e29e4f2392"
      },
      "execution_count": 20,
      "outputs": [
        {
          "output_type": "stream",
          "name": "stdout",
          "text": [
            "precision: 0.6558704453441295\n",
            "recall: 0.215311004784689\n",
            "accuracy: 0.9399639107903182\n",
            "roc_auc: 0.8710462663004621\n"
          ]
        }
      ]
    },
    {
      "cell_type": "code",
      "source": [
        "precision_gb, recall_gb, accuracy_gb, roc_auc_gb = evaluate_metrics(gb, X_test, y_test)"
      ],
      "metadata": {
        "colab": {
          "base_uri": "https://localhost:8080/"
        },
        "id": "xZ85NvqU59Mu",
        "outputId": "061f32e1-577f-4825-9d0b-f90432b272dd"
      },
      "execution_count": 11,
      "outputs": [
        {
          "output_type": "stream",
          "name": "stdout",
          "text": [
            "precision: 0.5959595959595959\n",
            "recall: 0.17638266068759342\n",
            "accuracy: 0.9369\n",
            "roc_auc: 0.8683089432049094\n"
          ]
        }
      ]
    },
    {
      "cell_type": "markdown",
      "source": [
        "### Hyper parameter optimization using Grid Search & Randomized search"
      ],
      "metadata": {
        "id": "BOncVYKCnbiU"
      }
    },
    {
      "cell_type": "markdown",
      "source": [
        "This step is the **Grid Search** and **Randomized Cross Validation (CV) Search** for baseline models. Combinations of Parameters will be (randomly) choosen and evaluated with the CV technique. Finally the parameter combination with the best CV performance will be chosen.\n",
        "\n",
        "The performance of baseline models increase after the parameter tunning."
      ],
      "metadata": {
        "id": "LP4yFXMbuCwv"
      }
    },
    {
      "cell_type": "code",
      "source": [
        "from sklearn.model_selection import GridSearchCV, RandomizedSearchCV"
      ],
      "metadata": {
        "id": "NuzxgApEn1cY"
      },
      "execution_count": 39,
      "outputs": []
    },
    {
      "cell_type": "markdown",
      "source": [
        "#### AdaMoosting\n",
        "\n",
        "The best parameters of AdaBoosting are n_estimators=200, learning_rate=1."
      ],
      "metadata": {
        "id": "J27Q3R8ivHIR"
      }
    },
    {
      "cell_type": "code",
      "source": [
        "adaHyperParams = {'n_estimators': [200],\n",
        "                  'learning_rate': [0.5, 1, 1.5]}\n",
        "\n",
        "gridSearchAda = GridSearchCV(estimator=ada, param_grid=adaHyperParams,\n",
        "                                           scoring='roc_auc', cv=5, verbose=2)\n",
        "gridSearchAda.fit(X_train, y_train)"
      ],
      "metadata": {
        "colab": {
          "base_uri": "https://localhost:8080/",
          "height": 403
        },
        "id": "zUiMoKIysLix",
        "outputId": "c06a385b-f1ec-407d-b8aa-20d5e0ee88ce"
      },
      "execution_count": null,
      "outputs": [
        {
          "output_type": "stream",
          "name": "stdout",
          "text": [
            "Fitting 5 folds for each of 3 candidates, totalling 15 fits\n",
            "[CV] END ................learning_rate=0.5, n_estimators=200; total time=  18.1s\n",
            "[CV] END ................learning_rate=0.5, n_estimators=200; total time=  17.2s\n",
            "[CV] END ................learning_rate=0.5, n_estimators=200; total time=  17.0s\n",
            "[CV] END ................learning_rate=0.5, n_estimators=200; total time=  17.0s\n",
            "[CV] END ................learning_rate=0.5, n_estimators=200; total time=  18.1s\n",
            "[CV] END ..................learning_rate=1, n_estimators=200; total time=  17.0s\n",
            "[CV] END ..................learning_rate=1, n_estimators=200; total time=  17.5s\n",
            "[CV] END ..................learning_rate=1, n_estimators=200; total time=  18.4s\n",
            "[CV] END ..................learning_rate=1, n_estimators=200; total time=  16.9s\n",
            "[CV] END ..................learning_rate=1, n_estimators=200; total time=  17.3s\n",
            "[CV] END ................learning_rate=1.5, n_estimators=200; total time=  17.9s\n",
            "[CV] END ................learning_rate=1.5, n_estimators=200; total time=  17.2s\n",
            "[CV] END ................learning_rate=1.5, n_estimators=200; total time=  16.8s\n",
            "[CV] END ................learning_rate=1.5, n_estimators=200; total time=  16.9s\n",
            "[CV] END ................learning_rate=1.5, n_estimators=200; total time=  18.0s\n"
          ]
        },
        {
          "output_type": "execute_result",
          "data": {
            "text/plain": [
              "GridSearchCV(cv=5, estimator=AdaBoostClassifier(n_estimators=200),\n",
              "             param_grid={'learning_rate': [0.5, 1, 1.5], 'n_estimators': [200]},\n",
              "             scoring='roc_auc', verbose=2)"
            ],
            "text/html": [
              "<style>#sk-container-id-5 {color: black;background-color: white;}#sk-container-id-5 pre{padding: 0;}#sk-container-id-5 div.sk-toggleable {background-color: white;}#sk-container-id-5 label.sk-toggleable__label {cursor: pointer;display: block;width: 100%;margin-bottom: 0;padding: 0.3em;box-sizing: border-box;text-align: center;}#sk-container-id-5 label.sk-toggleable__label-arrow:before {content: \"▸\";float: left;margin-right: 0.25em;color: #696969;}#sk-container-id-5 label.sk-toggleable__label-arrow:hover:before {color: black;}#sk-container-id-5 div.sk-estimator:hover label.sk-toggleable__label-arrow:before {color: black;}#sk-container-id-5 div.sk-toggleable__content {max-height: 0;max-width: 0;overflow: hidden;text-align: left;background-color: #f0f8ff;}#sk-container-id-5 div.sk-toggleable__content pre {margin: 0.2em;color: black;border-radius: 0.25em;background-color: #f0f8ff;}#sk-container-id-5 input.sk-toggleable__control:checked~div.sk-toggleable__content {max-height: 200px;max-width: 100%;overflow: auto;}#sk-container-id-5 input.sk-toggleable__control:checked~label.sk-toggleable__label-arrow:before {content: \"▾\";}#sk-container-id-5 div.sk-estimator input.sk-toggleable__control:checked~label.sk-toggleable__label {background-color: #d4ebff;}#sk-container-id-5 div.sk-label input.sk-toggleable__control:checked~label.sk-toggleable__label {background-color: #d4ebff;}#sk-container-id-5 input.sk-hidden--visually {border: 0;clip: rect(1px 1px 1px 1px);clip: rect(1px, 1px, 1px, 1px);height: 1px;margin: -1px;overflow: hidden;padding: 0;position: absolute;width: 1px;}#sk-container-id-5 div.sk-estimator {font-family: monospace;background-color: #f0f8ff;border: 1px dotted black;border-radius: 0.25em;box-sizing: border-box;margin-bottom: 0.5em;}#sk-container-id-5 div.sk-estimator:hover {background-color: #d4ebff;}#sk-container-id-5 div.sk-parallel-item::after {content: \"\";width: 100%;border-bottom: 1px solid gray;flex-grow: 1;}#sk-container-id-5 div.sk-label:hover label.sk-toggleable__label {background-color: #d4ebff;}#sk-container-id-5 div.sk-serial::before {content: \"\";position: absolute;border-left: 1px solid gray;box-sizing: border-box;top: 0;bottom: 0;left: 50%;z-index: 0;}#sk-container-id-5 div.sk-serial {display: flex;flex-direction: column;align-items: center;background-color: white;padding-right: 0.2em;padding-left: 0.2em;position: relative;}#sk-container-id-5 div.sk-item {position: relative;z-index: 1;}#sk-container-id-5 div.sk-parallel {display: flex;align-items: stretch;justify-content: center;background-color: white;position: relative;}#sk-container-id-5 div.sk-item::before, #sk-container-id-5 div.sk-parallel-item::before {content: \"\";position: absolute;border-left: 1px solid gray;box-sizing: border-box;top: 0;bottom: 0;left: 50%;z-index: -1;}#sk-container-id-5 div.sk-parallel-item {display: flex;flex-direction: column;z-index: 1;position: relative;background-color: white;}#sk-container-id-5 div.sk-parallel-item:first-child::after {align-self: flex-end;width: 50%;}#sk-container-id-5 div.sk-parallel-item:last-child::after {align-self: flex-start;width: 50%;}#sk-container-id-5 div.sk-parallel-item:only-child::after {width: 0;}#sk-container-id-5 div.sk-dashed-wrapped {border: 1px dashed gray;margin: 0 0.4em 0.5em 0.4em;box-sizing: border-box;padding-bottom: 0.4em;background-color: white;}#sk-container-id-5 div.sk-label label {font-family: monospace;font-weight: bold;display: inline-block;line-height: 1.2em;}#sk-container-id-5 div.sk-label-container {text-align: center;}#sk-container-id-5 div.sk-container {/* jupyter's `normalize.less` sets `[hidden] { display: none; }` but bootstrap.min.css set `[hidden] { display: none !important; }` so we also need the `!important` here to be able to override the default hidden behavior on the sphinx rendered scikit-learn.org. See: https://github.com/scikit-learn/scikit-learn/issues/21755 */display: inline-block !important;position: relative;}#sk-container-id-5 div.sk-text-repr-fallback {display: none;}</style><div id=\"sk-container-id-5\" class=\"sk-top-container\"><div class=\"sk-text-repr-fallback\"><pre>GridSearchCV(cv=5, estimator=AdaBoostClassifier(n_estimators=200),\n",
              "             param_grid={&#x27;learning_rate&#x27;: [0.5, 1, 1.5], &#x27;n_estimators&#x27;: [200]},\n",
              "             scoring=&#x27;roc_auc&#x27;, verbose=2)</pre><b>In a Jupyter environment, please rerun this cell to show the HTML representation or trust the notebook. <br />On GitHub, the HTML representation is unable to render, please try loading this page with nbviewer.org.</b></div><div class=\"sk-container\" hidden><div class=\"sk-item sk-dashed-wrapped\"><div class=\"sk-label-container\"><div class=\"sk-label sk-toggleable\"><input class=\"sk-toggleable__control sk-hidden--visually\" id=\"sk-estimator-id-7\" type=\"checkbox\" ><label for=\"sk-estimator-id-7\" class=\"sk-toggleable__label sk-toggleable__label-arrow\">GridSearchCV</label><div class=\"sk-toggleable__content\"><pre>GridSearchCV(cv=5, estimator=AdaBoostClassifier(n_estimators=200),\n",
              "             param_grid={&#x27;learning_rate&#x27;: [0.5, 1, 1.5], &#x27;n_estimators&#x27;: [200]},\n",
              "             scoring=&#x27;roc_auc&#x27;, verbose=2)</pre></div></div></div><div class=\"sk-parallel\"><div class=\"sk-parallel-item\"><div class=\"sk-item\"><div class=\"sk-label-container\"><div class=\"sk-label sk-toggleable\"><input class=\"sk-toggleable__control sk-hidden--visually\" id=\"sk-estimator-id-8\" type=\"checkbox\" ><label for=\"sk-estimator-id-8\" class=\"sk-toggleable__label sk-toggleable__label-arrow\">estimator: AdaBoostClassifier</label><div class=\"sk-toggleable__content\"><pre>AdaBoostClassifier(n_estimators=200)</pre></div></div></div><div class=\"sk-serial\"><div class=\"sk-item\"><div class=\"sk-estimator sk-toggleable\"><input class=\"sk-toggleable__control sk-hidden--visually\" id=\"sk-estimator-id-9\" type=\"checkbox\" ><label for=\"sk-estimator-id-9\" class=\"sk-toggleable__label sk-toggleable__label-arrow\">AdaBoostClassifier</label><div class=\"sk-toggleable__content\"><pre>AdaBoostClassifier(n_estimators=200)</pre></div></div></div></div></div></div></div></div></div></div>"
            ]
          },
          "metadata": {},
          "execution_count": 30
        }
      ]
    },
    {
      "cell_type": "code",
      "source": [
        "gridSearchAda.best_params_, gridSearchAda.best_score_"
      ],
      "metadata": {
        "colab": {
          "base_uri": "https://localhost:8080/"
        },
        "id": "aqeP3miosoRl",
        "outputId": "157578e0-ad81-4b27-c638-72a749019ba6"
      },
      "execution_count": null,
      "outputs": [
        {
          "output_type": "execute_result",
          "data": {
            "text/plain": [
              "({'learning_rate': 1, 'n_estimators': 200}, 0.8595553227888884)"
            ]
          },
          "metadata": {},
          "execution_count": 31
        }
      ]
    },
    {
      "cell_type": "code",
      "source": [
        "adaHyperParams_r = {'n_estimators': [150, 200, 250],\n",
        "                  'learning_rate': [0.5, 1, 1.5]}\n",
        "gridSearchAda_r = RandomizedSearchCV(estimator=ada, param_distributions=adaHyperParams_r,\n",
        "                                   n_iter=5, scoring='roc_auc', cv=5, verbose=2).fit(X_train, y_train)"
      ],
      "metadata": {
        "colab": {
          "base_uri": "https://localhost:8080/"
        },
        "id": "5qlveR3mn7YJ",
        "outputId": "ba04c692-974e-4c1a-bfd8-8ff3d2dcbc9a"
      },
      "execution_count": null,
      "outputs": [
        {
          "output_type": "stream",
          "name": "stdout",
          "text": [
            "Fitting 5 folds for each of 5 candidates, totalling 25 fits\n",
            "[CV] END ..................learning_rate=1, n_estimators=150; total time=  14.4s\n",
            "[CV] END ..................learning_rate=1, n_estimators=150; total time=  20.7s\n",
            "[CV] END ..................learning_rate=1, n_estimators=150; total time=  21.3s\n",
            "[CV] END ..................learning_rate=1, n_estimators=150; total time=  14.6s\n",
            "[CV] END ..................learning_rate=1, n_estimators=150; total time=  13.9s\n",
            "[CV] END ................learning_rate=0.5, n_estimators=200; total time=  17.7s\n",
            "[CV] END ................learning_rate=0.5, n_estimators=200; total time=  18.6s\n",
            "[CV] END ................learning_rate=0.5, n_estimators=200; total time=  17.2s\n",
            "[CV] END ................learning_rate=0.5, n_estimators=200; total time=  17.7s\n",
            "[CV] END ................learning_rate=0.5, n_estimators=200; total time=  18.9s\n",
            "[CV] END ................learning_rate=0.5, n_estimators=150; total time=  13.3s\n",
            "[CV] END ................learning_rate=0.5, n_estimators=150; total time=  13.2s\n",
            "[CV] END ................learning_rate=0.5, n_estimators=150; total time=  13.3s\n",
            "[CV] END ................learning_rate=0.5, n_estimators=150; total time=  13.7s\n",
            "[CV] END ................learning_rate=0.5, n_estimators=150; total time=  12.9s\n",
            "[CV] END ................learning_rate=1.5, n_estimators=250; total time=  21.4s\n",
            "[CV] END ................learning_rate=1.5, n_estimators=250; total time=  22.2s\n",
            "[CV] END ................learning_rate=1.5, n_estimators=250; total time=  21.2s\n",
            "[CV] END ................learning_rate=1.5, n_estimators=250; total time=  22.1s\n",
            "[CV] END ................learning_rate=1.5, n_estimators=250; total time=  22.3s\n",
            "[CV] END ................learning_rate=0.5, n_estimators=250; total time=  21.3s\n",
            "[CV] END ................learning_rate=0.5, n_estimators=250; total time=  22.2s\n",
            "[CV] END ................learning_rate=0.5, n_estimators=250; total time=  22.1s\n",
            "[CV] END ................learning_rate=0.5, n_estimators=250; total time=  21.4s\n",
            "[CV] END ................learning_rate=0.5, n_estimators=250; total time=  22.1s\n"
          ]
        }
      ]
    },
    {
      "cell_type": "code",
      "source": [
        "print(gridSearchAda_r.best_params_)\n",
        "print(f'ROC_AUC score: {gridSearchAda_r.best_score_}')"
      ],
      "metadata": {
        "colab": {
          "base_uri": "https://localhost:8080/"
        },
        "id": "4fYAfFWqbLKa",
        "outputId": "243673da-50bd-4fe2-ba55-33a3627da509"
      },
      "execution_count": null,
      "outputs": [
        {
          "output_type": "stream",
          "name": "stdout",
          "text": [
            "{'n_estimators': 150, 'learning_rate': 1}\n",
            "ROC_AUC score: 0.8594788155477782\n"
          ]
        }
      ]
    },
    {
      "cell_type": "code",
      "source": [
        "ada = AdaBoostClassifier(n_estimators=150, learning_rate=1)\n",
        "ada.fit(X_train, y_train)"
      ],
      "metadata": {
        "colab": {
          "base_uri": "https://localhost:8080/",
          "height": 75
        },
        "id": "BcOB6GLP6s1k",
        "outputId": "d6966523-8a19-4636-97ed-45487ce372e1"
      },
      "execution_count": 23,
      "outputs": [
        {
          "output_type": "execute_result",
          "data": {
            "text/plain": [
              "AdaBoostClassifier(learning_rate=1, n_estimators=150)"
            ],
            "text/html": [
              "<style>#sk-container-id-7 {color: black;background-color: white;}#sk-container-id-7 pre{padding: 0;}#sk-container-id-7 div.sk-toggleable {background-color: white;}#sk-container-id-7 label.sk-toggleable__label {cursor: pointer;display: block;width: 100%;margin-bottom: 0;padding: 0.3em;box-sizing: border-box;text-align: center;}#sk-container-id-7 label.sk-toggleable__label-arrow:before {content: \"▸\";float: left;margin-right: 0.25em;color: #696969;}#sk-container-id-7 label.sk-toggleable__label-arrow:hover:before {color: black;}#sk-container-id-7 div.sk-estimator:hover label.sk-toggleable__label-arrow:before {color: black;}#sk-container-id-7 div.sk-toggleable__content {max-height: 0;max-width: 0;overflow: hidden;text-align: left;background-color: #f0f8ff;}#sk-container-id-7 div.sk-toggleable__content pre {margin: 0.2em;color: black;border-radius: 0.25em;background-color: #f0f8ff;}#sk-container-id-7 input.sk-toggleable__control:checked~div.sk-toggleable__content {max-height: 200px;max-width: 100%;overflow: auto;}#sk-container-id-7 input.sk-toggleable__control:checked~label.sk-toggleable__label-arrow:before {content: \"▾\";}#sk-container-id-7 div.sk-estimator input.sk-toggleable__control:checked~label.sk-toggleable__label {background-color: #d4ebff;}#sk-container-id-7 div.sk-label input.sk-toggleable__control:checked~label.sk-toggleable__label {background-color: #d4ebff;}#sk-container-id-7 input.sk-hidden--visually {border: 0;clip: rect(1px 1px 1px 1px);clip: rect(1px, 1px, 1px, 1px);height: 1px;margin: -1px;overflow: hidden;padding: 0;position: absolute;width: 1px;}#sk-container-id-7 div.sk-estimator {font-family: monospace;background-color: #f0f8ff;border: 1px dotted black;border-radius: 0.25em;box-sizing: border-box;margin-bottom: 0.5em;}#sk-container-id-7 div.sk-estimator:hover {background-color: #d4ebff;}#sk-container-id-7 div.sk-parallel-item::after {content: \"\";width: 100%;border-bottom: 1px solid gray;flex-grow: 1;}#sk-container-id-7 div.sk-label:hover label.sk-toggleable__label {background-color: #d4ebff;}#sk-container-id-7 div.sk-serial::before {content: \"\";position: absolute;border-left: 1px solid gray;box-sizing: border-box;top: 0;bottom: 0;left: 50%;z-index: 0;}#sk-container-id-7 div.sk-serial {display: flex;flex-direction: column;align-items: center;background-color: white;padding-right: 0.2em;padding-left: 0.2em;position: relative;}#sk-container-id-7 div.sk-item {position: relative;z-index: 1;}#sk-container-id-7 div.sk-parallel {display: flex;align-items: stretch;justify-content: center;background-color: white;position: relative;}#sk-container-id-7 div.sk-item::before, #sk-container-id-7 div.sk-parallel-item::before {content: \"\";position: absolute;border-left: 1px solid gray;box-sizing: border-box;top: 0;bottom: 0;left: 50%;z-index: -1;}#sk-container-id-7 div.sk-parallel-item {display: flex;flex-direction: column;z-index: 1;position: relative;background-color: white;}#sk-container-id-7 div.sk-parallel-item:first-child::after {align-self: flex-end;width: 50%;}#sk-container-id-7 div.sk-parallel-item:last-child::after {align-self: flex-start;width: 50%;}#sk-container-id-7 div.sk-parallel-item:only-child::after {width: 0;}#sk-container-id-7 div.sk-dashed-wrapped {border: 1px dashed gray;margin: 0 0.4em 0.5em 0.4em;box-sizing: border-box;padding-bottom: 0.4em;background-color: white;}#sk-container-id-7 div.sk-label label {font-family: monospace;font-weight: bold;display: inline-block;line-height: 1.2em;}#sk-container-id-7 div.sk-label-container {text-align: center;}#sk-container-id-7 div.sk-container {/* jupyter's `normalize.less` sets `[hidden] { display: none; }` but bootstrap.min.css set `[hidden] { display: none !important; }` so we also need the `!important` here to be able to override the default hidden behavior on the sphinx rendered scikit-learn.org. See: https://github.com/scikit-learn/scikit-learn/issues/21755 */display: inline-block !important;position: relative;}#sk-container-id-7 div.sk-text-repr-fallback {display: none;}</style><div id=\"sk-container-id-7\" class=\"sk-top-container\"><div class=\"sk-text-repr-fallback\"><pre>AdaBoostClassifier(learning_rate=1, n_estimators=150)</pre><b>In a Jupyter environment, please rerun this cell to show the HTML representation or trust the notebook. <br />On GitHub, the HTML representation is unable to render, please try loading this page with nbviewer.org.</b></div><div class=\"sk-container\" hidden><div class=\"sk-item\"><div class=\"sk-estimator sk-toggleable\"><input class=\"sk-toggleable__control sk-hidden--visually\" id=\"sk-estimator-id-7\" type=\"checkbox\" checked><label for=\"sk-estimator-id-7\" class=\"sk-toggleable__label sk-toggleable__label-arrow\">AdaBoostClassifier</label><div class=\"sk-toggleable__content\"><pre>AdaBoostClassifier(learning_rate=1, n_estimators=150)</pre></div></div></div></div></div>"
            ]
          },
          "metadata": {},
          "execution_count": 23
        }
      ]
    },
    {
      "cell_type": "code",
      "source": [
        "precision_ada, recall_ada, accuracy_ada, roc_auc_ada = evaluate_metrics(ada, X_test, y_test)"
      ],
      "metadata": {
        "colab": {
          "base_uri": "https://localhost:8080/"
        },
        "id": "7szo_sYJ6zH5",
        "outputId": "0444f7f4-cf1d-4171-aac6-29fe1b727605"
      },
      "execution_count": 11,
      "outputs": [
        {
          "output_type": "stream",
          "name": "stdout",
          "text": [
            "precision: 0.5573212258796821\n",
            "recall: 0.20624300559552357\n",
            "accuracy: 0.9360733333333333\n",
            "roc_auc: 0.8668361326939362\n"
          ]
        }
      ]
    },
    {
      "cell_type": "markdown",
      "source": [
        "#### GradientBoosting\n",
        "\n",
        "The best parameters of GradientBoosting are n_estimators=150, learning_rate=0.1,min_samples_leaf=5, max_features='log2', max_depth=5."
      ],
      "metadata": {
        "id": "za4-vnvVvVLK"
      }
    },
    {
      "cell_type": "code",
      "source": [
        "gbHyperParams = {'n_estimators': [100, 150, 200],\n",
        "                 'max_depth': [5, 10, 15, 20, 30],\n",
        "                 'min_samples_leaf': [1, 2, 3, 4, 5],\n",
        "                 'learning_rate': [0.1, 0.5, 1],\n",
        "                 'max_features':['sqrt', 'log2']}\n",
        "\n",
        "gridSearchGB = RandomizedSearchCV(estimator=gb, param_distributions=gbHyperParams,\n",
        "                                  n_iter=10, scoring='roc_auc', cv=5, verbose=2).fit(X_train, y_train)"
      ],
      "metadata": {
        "colab": {
          "base_uri": "https://localhost:8080/"
        },
        "id": "2sGqjzosbK7g",
        "outputId": "07d518a3-afe8-4d6a-b2f8-b53b68fd7a79"
      },
      "execution_count": null,
      "outputs": [
        {
          "output_type": "stream",
          "name": "stdout",
          "text": [
            "Fitting 5 folds for each of 10 candidates, totalling 50 fits\n",
            "[CV] END learning_rate=0.1, max_depth=5, max_features=log2, min_samples_leaf=2, n_estimators=150; total time=  11.4s\n",
            "[CV] END learning_rate=0.1, max_depth=5, max_features=log2, min_samples_leaf=2, n_estimators=150; total time=  11.6s\n",
            "[CV] END learning_rate=0.1, max_depth=5, max_features=log2, min_samples_leaf=2, n_estimators=150; total time=  10.5s\n",
            "[CV] END learning_rate=0.1, max_depth=5, max_features=log2, min_samples_leaf=2, n_estimators=150; total time=  10.8s\n",
            "[CV] END learning_rate=0.1, max_depth=5, max_features=log2, min_samples_leaf=2, n_estimators=150; total time=  11.7s\n",
            "[CV] END learning_rate=0.5, max_depth=20, max_features=sqrt, min_samples_leaf=2, n_estimators=150; total time= 1.7min\n",
            "[CV] END learning_rate=0.5, max_depth=20, max_features=sqrt, min_samples_leaf=2, n_estimators=150; total time= 1.5min\n",
            "[CV] END learning_rate=0.5, max_depth=20, max_features=sqrt, min_samples_leaf=2, n_estimators=150; total time= 1.5min\n",
            "[CV] END learning_rate=0.5, max_depth=20, max_features=sqrt, min_samples_leaf=2, n_estimators=150; total time= 2.7min\n",
            "[CV] END learning_rate=0.5, max_depth=20, max_features=sqrt, min_samples_leaf=2, n_estimators=150; total time= 1.7min\n",
            "[CV] END learning_rate=0.1, max_depth=10, max_features=log2, min_samples_leaf=4, n_estimators=150; total time=  30.9s\n",
            "[CV] END learning_rate=0.1, max_depth=10, max_features=log2, min_samples_leaf=4, n_estimators=150; total time=  33.5s\n",
            "[CV] END learning_rate=0.1, max_depth=10, max_features=log2, min_samples_leaf=4, n_estimators=150; total time=  33.6s\n",
            "[CV] END learning_rate=0.1, max_depth=10, max_features=log2, min_samples_leaf=4, n_estimators=150; total time=  32.9s\n",
            "[CV] END learning_rate=0.1, max_depth=10, max_features=log2, min_samples_leaf=4, n_estimators=150; total time=  35.0s\n",
            "[CV] END learning_rate=0.1, max_depth=5, max_features=log2, min_samples_leaf=5, n_estimators=150; total time=  15.6s\n",
            "[CV] END learning_rate=0.1, max_depth=5, max_features=log2, min_samples_leaf=5, n_estimators=150; total time=  15.7s\n",
            "[CV] END learning_rate=0.1, max_depth=5, max_features=log2, min_samples_leaf=5, n_estimators=150; total time=  15.4s\n",
            "[CV] END learning_rate=0.1, max_depth=5, max_features=log2, min_samples_leaf=5, n_estimators=150; total time=  17.3s\n",
            "[CV] END learning_rate=0.1, max_depth=5, max_features=log2, min_samples_leaf=5, n_estimators=150; total time=  16.7s\n",
            "[CV] END learning_rate=0.5, max_depth=30, max_features=log2, min_samples_leaf=1, n_estimators=200; total time= 1.3min\n",
            "[CV] END learning_rate=0.5, max_depth=30, max_features=log2, min_samples_leaf=1, n_estimators=200; total time= 1.2min\n",
            "[CV] END learning_rate=0.5, max_depth=30, max_features=log2, min_samples_leaf=1, n_estimators=200; total time= 1.1min\n",
            "[CV] END learning_rate=0.5, max_depth=30, max_features=log2, min_samples_leaf=1, n_estimators=200; total time= 1.2min\n",
            "[CV] END learning_rate=0.5, max_depth=30, max_features=log2, min_samples_leaf=1, n_estimators=200; total time= 1.3min\n",
            "[CV] END learning_rate=1, max_depth=20, max_features=sqrt, min_samples_leaf=4, n_estimators=100; total time= 1.2min\n",
            "[CV] END learning_rate=1, max_depth=20, max_features=sqrt, min_samples_leaf=4, n_estimators=100; total time= 1.2min\n",
            "[CV] END learning_rate=1, max_depth=20, max_features=sqrt, min_samples_leaf=4, n_estimators=100; total time= 1.2min\n",
            "[CV] END learning_rate=1, max_depth=20, max_features=sqrt, min_samples_leaf=4, n_estimators=100; total time= 1.2min\n",
            "[CV] END learning_rate=1, max_depth=20, max_features=sqrt, min_samples_leaf=4, n_estimators=100; total time= 1.2min\n",
            "[CV] END learning_rate=0.5, max_depth=30, max_features=sqrt, min_samples_leaf=4, n_estimators=100; total time= 1.4min\n",
            "[CV] END learning_rate=0.5, max_depth=30, max_features=sqrt, min_samples_leaf=4, n_estimators=100; total time= 1.4min\n",
            "[CV] END learning_rate=0.5, max_depth=30, max_features=sqrt, min_samples_leaf=4, n_estimators=100; total time= 1.4min\n",
            "[CV] END learning_rate=0.5, max_depth=30, max_features=sqrt, min_samples_leaf=4, n_estimators=100; total time= 1.4min\n",
            "[CV] END learning_rate=0.5, max_depth=30, max_features=sqrt, min_samples_leaf=4, n_estimators=100; total time= 1.4min\n",
            "[CV] END learning_rate=0.5, max_depth=10, max_features=log2, min_samples_leaf=2, n_estimators=150; total time=  25.5s\n",
            "[CV] END learning_rate=0.5, max_depth=10, max_features=log2, min_samples_leaf=2, n_estimators=150; total time=  25.9s\n",
            "[CV] END learning_rate=0.5, max_depth=10, max_features=log2, min_samples_leaf=2, n_estimators=150; total time=  26.4s\n",
            "[CV] END learning_rate=0.5, max_depth=10, max_features=log2, min_samples_leaf=2, n_estimators=150; total time=  25.7s\n",
            "[CV] END learning_rate=0.5, max_depth=10, max_features=log2, min_samples_leaf=2, n_estimators=150; total time=  25.9s\n",
            "[CV] END learning_rate=0.1, max_depth=15, max_features=sqrt, min_samples_leaf=5, n_estimators=100; total time=  33.0s\n",
            "[CV] END learning_rate=0.1, max_depth=15, max_features=sqrt, min_samples_leaf=5, n_estimators=100; total time=  32.4s\n",
            "[CV] END learning_rate=0.1, max_depth=15, max_features=sqrt, min_samples_leaf=5, n_estimators=100; total time=  33.2s\n",
            "[CV] END learning_rate=0.1, max_depth=15, max_features=sqrt, min_samples_leaf=5, n_estimators=100; total time=  31.6s\n",
            "[CV] END learning_rate=0.1, max_depth=15, max_features=sqrt, min_samples_leaf=5, n_estimators=100; total time=  32.0s\n",
            "[CV] END learning_rate=0.1, max_depth=20, max_features=sqrt, min_samples_leaf=2, n_estimators=100; total time= 1.9min\n",
            "[CV] END learning_rate=0.1, max_depth=20, max_features=sqrt, min_samples_leaf=2, n_estimators=100; total time= 1.8min\n",
            "[CV] END learning_rate=0.1, max_depth=20, max_features=sqrt, min_samples_leaf=2, n_estimators=100; total time= 1.8min\n",
            "[CV] END learning_rate=0.1, max_depth=20, max_features=sqrt, min_samples_leaf=2, n_estimators=100; total time= 1.8min\n",
            "[CV] END learning_rate=0.1, max_depth=20, max_features=sqrt, min_samples_leaf=2, n_estimators=100; total time= 1.8min\n"
          ]
        }
      ]
    },
    {
      "cell_type": "code",
      "source": [
        "print(gridSearchGB.best_params_)\n",
        "print(f'ROC_AUC score: {gridSearchGB.best_score_}')"
      ],
      "metadata": {
        "colab": {
          "base_uri": "https://localhost:8080/"
        },
        "id": "eEqJY7adviwx",
        "outputId": "bf5e5260-b89a-41cf-81b1-1eeb40304fae"
      },
      "execution_count": null,
      "outputs": [
        {
          "output_type": "stream",
          "name": "stdout",
          "text": [
            "{'n_estimators': 150, 'min_samples_leaf': 5, 'max_features': 'log2', 'max_depth': 5, 'learning_rate': 0.1}\n",
            "ROC_AUC score: 0.863498016794215\n"
          ]
        }
      ]
    },
    {
      "cell_type": "code",
      "source": [
        "gb = GradientBoostingClassifier(loss='log_loss', learning_rate=0.1, n_estimators=150,\n",
        "                                min_samples_leaf=5, max_depth=5, max_features='log2', verbose=0)\n",
        "gb.fit(X_train, y_train)"
      ],
      "metadata": {
        "colab": {
          "base_uri": "https://localhost:8080/",
          "height": 92
        },
        "id": "JUSrIXdLajcb",
        "outputId": "d3c5c191-7864-4c9e-946e-e33e4e323afe"
      },
      "execution_count": 15,
      "outputs": [
        {
          "output_type": "execute_result",
          "data": {
            "text/plain": [
              "GradientBoostingClassifier(max_depth=5, max_features='log2', min_samples_leaf=5,\n",
              "                           n_estimators=150)"
            ],
            "text/html": [
              "<style>#sk-container-id-3 {color: black;background-color: white;}#sk-container-id-3 pre{padding: 0;}#sk-container-id-3 div.sk-toggleable {background-color: white;}#sk-container-id-3 label.sk-toggleable__label {cursor: pointer;display: block;width: 100%;margin-bottom: 0;padding: 0.3em;box-sizing: border-box;text-align: center;}#sk-container-id-3 label.sk-toggleable__label-arrow:before {content: \"▸\";float: left;margin-right: 0.25em;color: #696969;}#sk-container-id-3 label.sk-toggleable__label-arrow:hover:before {color: black;}#sk-container-id-3 div.sk-estimator:hover label.sk-toggleable__label-arrow:before {color: black;}#sk-container-id-3 div.sk-toggleable__content {max-height: 0;max-width: 0;overflow: hidden;text-align: left;background-color: #f0f8ff;}#sk-container-id-3 div.sk-toggleable__content pre {margin: 0.2em;color: black;border-radius: 0.25em;background-color: #f0f8ff;}#sk-container-id-3 input.sk-toggleable__control:checked~div.sk-toggleable__content {max-height: 200px;max-width: 100%;overflow: auto;}#sk-container-id-3 input.sk-toggleable__control:checked~label.sk-toggleable__label-arrow:before {content: \"▾\";}#sk-container-id-3 div.sk-estimator input.sk-toggleable__control:checked~label.sk-toggleable__label {background-color: #d4ebff;}#sk-container-id-3 div.sk-label input.sk-toggleable__control:checked~label.sk-toggleable__label {background-color: #d4ebff;}#sk-container-id-3 input.sk-hidden--visually {border: 0;clip: rect(1px 1px 1px 1px);clip: rect(1px, 1px, 1px, 1px);height: 1px;margin: -1px;overflow: hidden;padding: 0;position: absolute;width: 1px;}#sk-container-id-3 div.sk-estimator {font-family: monospace;background-color: #f0f8ff;border: 1px dotted black;border-radius: 0.25em;box-sizing: border-box;margin-bottom: 0.5em;}#sk-container-id-3 div.sk-estimator:hover {background-color: #d4ebff;}#sk-container-id-3 div.sk-parallel-item::after {content: \"\";width: 100%;border-bottom: 1px solid gray;flex-grow: 1;}#sk-container-id-3 div.sk-label:hover label.sk-toggleable__label {background-color: #d4ebff;}#sk-container-id-3 div.sk-serial::before {content: \"\";position: absolute;border-left: 1px solid gray;box-sizing: border-box;top: 0;bottom: 0;left: 50%;z-index: 0;}#sk-container-id-3 div.sk-serial {display: flex;flex-direction: column;align-items: center;background-color: white;padding-right: 0.2em;padding-left: 0.2em;position: relative;}#sk-container-id-3 div.sk-item {position: relative;z-index: 1;}#sk-container-id-3 div.sk-parallel {display: flex;align-items: stretch;justify-content: center;background-color: white;position: relative;}#sk-container-id-3 div.sk-item::before, #sk-container-id-3 div.sk-parallel-item::before {content: \"\";position: absolute;border-left: 1px solid gray;box-sizing: border-box;top: 0;bottom: 0;left: 50%;z-index: -1;}#sk-container-id-3 div.sk-parallel-item {display: flex;flex-direction: column;z-index: 1;position: relative;background-color: white;}#sk-container-id-3 div.sk-parallel-item:first-child::after {align-self: flex-end;width: 50%;}#sk-container-id-3 div.sk-parallel-item:last-child::after {align-self: flex-start;width: 50%;}#sk-container-id-3 div.sk-parallel-item:only-child::after {width: 0;}#sk-container-id-3 div.sk-dashed-wrapped {border: 1px dashed gray;margin: 0 0.4em 0.5em 0.4em;box-sizing: border-box;padding-bottom: 0.4em;background-color: white;}#sk-container-id-3 div.sk-label label {font-family: monospace;font-weight: bold;display: inline-block;line-height: 1.2em;}#sk-container-id-3 div.sk-label-container {text-align: center;}#sk-container-id-3 div.sk-container {/* jupyter's `normalize.less` sets `[hidden] { display: none; }` but bootstrap.min.css set `[hidden] { display: none !important; }` so we also need the `!important` here to be able to override the default hidden behavior on the sphinx rendered scikit-learn.org. See: https://github.com/scikit-learn/scikit-learn/issues/21755 */display: inline-block !important;position: relative;}#sk-container-id-3 div.sk-text-repr-fallback {display: none;}</style><div id=\"sk-container-id-3\" class=\"sk-top-container\"><div class=\"sk-text-repr-fallback\"><pre>GradientBoostingClassifier(max_depth=5, max_features=&#x27;log2&#x27;, min_samples_leaf=5,\n",
              "                           n_estimators=150)</pre><b>In a Jupyter environment, please rerun this cell to show the HTML representation or trust the notebook. <br />On GitHub, the HTML representation is unable to render, please try loading this page with nbviewer.org.</b></div><div class=\"sk-container\" hidden><div class=\"sk-item\"><div class=\"sk-estimator sk-toggleable\"><input class=\"sk-toggleable__control sk-hidden--visually\" id=\"sk-estimator-id-3\" type=\"checkbox\" checked><label for=\"sk-estimator-id-3\" class=\"sk-toggleable__label sk-toggleable__label-arrow\">GradientBoostingClassifier</label><div class=\"sk-toggleable__content\"><pre>GradientBoostingClassifier(max_depth=5, max_features=&#x27;log2&#x27;, min_samples_leaf=5,\n",
              "                           n_estimators=150)</pre></div></div></div></div></div>"
            ]
          },
          "metadata": {},
          "execution_count": 15
        }
      ]
    },
    {
      "cell_type": "code",
      "source": [
        "precision_gb, recall_gb, accuracy_gb, roc_auc_gb = evaluate_metrics(gb, X_test, y_test)"
      ],
      "metadata": {
        "colab": {
          "base_uri": "https://localhost:8080/"
        },
        "id": "CJ5-q2yybFdU",
        "outputId": "7f51647e-8895-496f-a06b-677b69a9b956"
      },
      "execution_count": 12,
      "outputs": [
        {
          "output_type": "stream",
          "name": "stdout",
          "text": [
            "precision: 0.5573212258796821\n",
            "recall: 0.19884652278177458\n",
            "accuracy: 0.9467466666666666\n",
            "roc_auc: 0.8713442127034415\n"
          ]
        }
      ]
    },
    {
      "cell_type": "code",
      "source": [],
      "metadata": {
        "id": "oBxzaqmJvquj"
      },
      "execution_count": null,
      "outputs": []
    },
    {
      "cell_type": "markdown",
      "source": [
        "### UpSampling & DownSampling\n",
        "\n",
        "As discovered in the EDA part, this dataset is imbalanced with few positive samples. Since our goal is to classify whether a customer will have enough money to pay back the loan in the future, it is important for us to pay more attention to these positive samples.\n",
        "\n",
        "To address this problem, in this step we use the UpSampling and DownSampling technique to adjust the imbalanced dataset."
      ],
      "metadata": {
        "id": "NknRpW0JwQ10"
      }
    },
    {
      "cell_type": "markdown",
      "source": [
        "Originally, the ratio of Positive:Negative is about 1:10. We adjust it into 1:2. The result shows that without affecting the Accuracy and ROC-AUC too much, the recall significantly increases, which makes our model more capable in detecting potential defaulting customers."
      ],
      "metadata": {
        "id": "vfOm0RNixgQz"
      }
    },
    {
      "cell_type": "code",
      "source": [
        "sample0 = df_train_new.iloc[X_train.index.values,][df_train_new['seriousdlqin2yrs']==0]\n",
        "sample1 = df_train_new.iloc[X_train.index.values,][df_train_new['seriousdlqin2yrs']==1]\n",
        "print(len(sample0))\n",
        "print(len(sample1))"
      ],
      "metadata": {
        "colab": {
          "base_uri": "https://localhost:8080/"
        },
        "id": "9lf0WTKkvqsC",
        "outputId": "aa338cf5-4b74-4b21-c7f9-822e41241e70"
      },
      "execution_count": 17,
      "outputs": [
        {
          "output_type": "stream",
          "name": "stdout",
          "text": [
            "104975\n",
            "7524\n"
          ]
        }
      ]
    },
    {
      "cell_type": "code",
      "source": [
        "df_majority_downsampled = resample(sample0,\n",
        "                                 replace=False,\n",
        "                                 n_samples=100000)\n",
        "#Upsample minority class\n",
        "df_minority_upsampled = resample(sample1,\n",
        "                                 replace=True,\n",
        "                                 n_samples=50000)\n",
        "# Combine minority class with downsampled majority class\n",
        "df_up_down_sampled = pd.concat([df_majority_downsampled, df_minority_upsampled])"
      ],
      "metadata": {
        "id": "rZUi5w7PvqpR"
      },
      "execution_count": 18,
      "outputs": []
    },
    {
      "cell_type": "code",
      "source": [
        "X_train_sampled = df_up_down_sampled.iloc[:, 1:]\n",
        "y_train_sampled = df_up_down_sampled['seriousdlqin2yrs']"
      ],
      "metadata": {
        "id": "1TKUQKfvvqmb"
      },
      "execution_count": 19,
      "outputs": []
    },
    {
      "cell_type": "code",
      "source": [
        "ada_sampled = AdaBoostClassifier(n_estimators=200, learning_rate=1.0)\n",
        "ada_sampled.fit(X_train_sampled, y_train_sampled)"
      ],
      "metadata": {
        "colab": {
          "base_uri": "https://localhost:8080/",
          "height": 75
        },
        "id": "xYKR-digvqfb",
        "outputId": "eee4f5a4-f0c7-4be5-de7a-c23e8f4a3b85"
      },
      "execution_count": 20,
      "outputs": [
        {
          "output_type": "execute_result",
          "data": {
            "text/plain": [
              "AdaBoostClassifier(n_estimators=200)"
            ],
            "text/html": [
              "<style>#sk-container-id-4 {color: black;background-color: white;}#sk-container-id-4 pre{padding: 0;}#sk-container-id-4 div.sk-toggleable {background-color: white;}#sk-container-id-4 label.sk-toggleable__label {cursor: pointer;display: block;width: 100%;margin-bottom: 0;padding: 0.3em;box-sizing: border-box;text-align: center;}#sk-container-id-4 label.sk-toggleable__label-arrow:before {content: \"▸\";float: left;margin-right: 0.25em;color: #696969;}#sk-container-id-4 label.sk-toggleable__label-arrow:hover:before {color: black;}#sk-container-id-4 div.sk-estimator:hover label.sk-toggleable__label-arrow:before {color: black;}#sk-container-id-4 div.sk-toggleable__content {max-height: 0;max-width: 0;overflow: hidden;text-align: left;background-color: #f0f8ff;}#sk-container-id-4 div.sk-toggleable__content pre {margin: 0.2em;color: black;border-radius: 0.25em;background-color: #f0f8ff;}#sk-container-id-4 input.sk-toggleable__control:checked~div.sk-toggleable__content {max-height: 200px;max-width: 100%;overflow: auto;}#sk-container-id-4 input.sk-toggleable__control:checked~label.sk-toggleable__label-arrow:before {content: \"▾\";}#sk-container-id-4 div.sk-estimator input.sk-toggleable__control:checked~label.sk-toggleable__label {background-color: #d4ebff;}#sk-container-id-4 div.sk-label input.sk-toggleable__control:checked~label.sk-toggleable__label {background-color: #d4ebff;}#sk-container-id-4 input.sk-hidden--visually {border: 0;clip: rect(1px 1px 1px 1px);clip: rect(1px, 1px, 1px, 1px);height: 1px;margin: -1px;overflow: hidden;padding: 0;position: absolute;width: 1px;}#sk-container-id-4 div.sk-estimator {font-family: monospace;background-color: #f0f8ff;border: 1px dotted black;border-radius: 0.25em;box-sizing: border-box;margin-bottom: 0.5em;}#sk-container-id-4 div.sk-estimator:hover {background-color: #d4ebff;}#sk-container-id-4 div.sk-parallel-item::after {content: \"\";width: 100%;border-bottom: 1px solid gray;flex-grow: 1;}#sk-container-id-4 div.sk-label:hover label.sk-toggleable__label {background-color: #d4ebff;}#sk-container-id-4 div.sk-serial::before {content: \"\";position: absolute;border-left: 1px solid gray;box-sizing: border-box;top: 0;bottom: 0;left: 50%;z-index: 0;}#sk-container-id-4 div.sk-serial {display: flex;flex-direction: column;align-items: center;background-color: white;padding-right: 0.2em;padding-left: 0.2em;position: relative;}#sk-container-id-4 div.sk-item {position: relative;z-index: 1;}#sk-container-id-4 div.sk-parallel {display: flex;align-items: stretch;justify-content: center;background-color: white;position: relative;}#sk-container-id-4 div.sk-item::before, #sk-container-id-4 div.sk-parallel-item::before {content: \"\";position: absolute;border-left: 1px solid gray;box-sizing: border-box;top: 0;bottom: 0;left: 50%;z-index: -1;}#sk-container-id-4 div.sk-parallel-item {display: flex;flex-direction: column;z-index: 1;position: relative;background-color: white;}#sk-container-id-4 div.sk-parallel-item:first-child::after {align-self: flex-end;width: 50%;}#sk-container-id-4 div.sk-parallel-item:last-child::after {align-self: flex-start;width: 50%;}#sk-container-id-4 div.sk-parallel-item:only-child::after {width: 0;}#sk-container-id-4 div.sk-dashed-wrapped {border: 1px dashed gray;margin: 0 0.4em 0.5em 0.4em;box-sizing: border-box;padding-bottom: 0.4em;background-color: white;}#sk-container-id-4 div.sk-label label {font-family: monospace;font-weight: bold;display: inline-block;line-height: 1.2em;}#sk-container-id-4 div.sk-label-container {text-align: center;}#sk-container-id-4 div.sk-container {/* jupyter's `normalize.less` sets `[hidden] { display: none; }` but bootstrap.min.css set `[hidden] { display: none !important; }` so we also need the `!important` here to be able to override the default hidden behavior on the sphinx rendered scikit-learn.org. See: https://github.com/scikit-learn/scikit-learn/issues/21755 */display: inline-block !important;position: relative;}#sk-container-id-4 div.sk-text-repr-fallback {display: none;}</style><div id=\"sk-container-id-4\" class=\"sk-top-container\"><div class=\"sk-text-repr-fallback\"><pre>AdaBoostClassifier(n_estimators=200)</pre><b>In a Jupyter environment, please rerun this cell to show the HTML representation or trust the notebook. <br />On GitHub, the HTML representation is unable to render, please try loading this page with nbviewer.org.</b></div><div class=\"sk-container\" hidden><div class=\"sk-item\"><div class=\"sk-estimator sk-toggleable\"><input class=\"sk-toggleable__control sk-hidden--visually\" id=\"sk-estimator-id-4\" type=\"checkbox\" checked><label for=\"sk-estimator-id-4\" class=\"sk-toggleable__label sk-toggleable__label-arrow\">AdaBoostClassifier</label><div class=\"sk-toggleable__content\"><pre>AdaBoostClassifier(n_estimators=200)</pre></div></div></div></div></div>"
            ]
          },
          "metadata": {},
          "execution_count": 20
        }
      ]
    },
    {
      "cell_type": "code",
      "source": [
        "precision_ada, recall_ada, accuracy_ada, roc_auc_ada = evaluate_metrics(ada_sampled, X_test, y_test)"
      ],
      "metadata": {
        "colab": {
          "base_uri": "https://localhost:8080/"
        },
        "id": "FfFcQYhQyHTX",
        "outputId": "a1134f3d-83aa-454f-c7ed-fe57146b8e5a"
      },
      "execution_count": 21,
      "outputs": [
        {
          "output_type": "stream",
          "name": "stdout",
          "text": [
            "precision: 0.3257364007740271\n",
            "recall: 0.605515587529976\n",
            "accuracy: 0.8900533333333334\n",
            "roc_auc: 0.8666823041937899\n"
          ]
        }
      ]
    },
    {
      "cell_type": "code",
      "source": [
        "gb_sampled = GradientBoostingClassifier(loss='log_loss', learning_rate=0.1, n_estimators=150,\n",
        "                                min_samples_leaf=5, max_depth=5, max_features='log2', verbose=0)\n",
        "gb_sampled.fit(X_train_sampled, y_train_sampled)"
      ],
      "metadata": {
        "colab": {
          "base_uri": "https://localhost:8080/",
          "height": 92
        },
        "id": "Nv734_shyHQh",
        "outputId": "d968604b-70b8-4ecd-b74d-f3acaec53545"
      },
      "execution_count": 22,
      "outputs": [
        {
          "output_type": "execute_result",
          "data": {
            "text/plain": [
              "GradientBoostingClassifier(max_depth=5, max_features='log2', min_samples_leaf=5,\n",
              "                           n_estimators=150)"
            ],
            "text/html": [
              "<style>#sk-container-id-5 {color: black;background-color: white;}#sk-container-id-5 pre{padding: 0;}#sk-container-id-5 div.sk-toggleable {background-color: white;}#sk-container-id-5 label.sk-toggleable__label {cursor: pointer;display: block;width: 100%;margin-bottom: 0;padding: 0.3em;box-sizing: border-box;text-align: center;}#sk-container-id-5 label.sk-toggleable__label-arrow:before {content: \"▸\";float: left;margin-right: 0.25em;color: #696969;}#sk-container-id-5 label.sk-toggleable__label-arrow:hover:before {color: black;}#sk-container-id-5 div.sk-estimator:hover label.sk-toggleable__label-arrow:before {color: black;}#sk-container-id-5 div.sk-toggleable__content {max-height: 0;max-width: 0;overflow: hidden;text-align: left;background-color: #f0f8ff;}#sk-container-id-5 div.sk-toggleable__content pre {margin: 0.2em;color: black;border-radius: 0.25em;background-color: #f0f8ff;}#sk-container-id-5 input.sk-toggleable__control:checked~div.sk-toggleable__content {max-height: 200px;max-width: 100%;overflow: auto;}#sk-container-id-5 input.sk-toggleable__control:checked~label.sk-toggleable__label-arrow:before {content: \"▾\";}#sk-container-id-5 div.sk-estimator input.sk-toggleable__control:checked~label.sk-toggleable__label {background-color: #d4ebff;}#sk-container-id-5 div.sk-label input.sk-toggleable__control:checked~label.sk-toggleable__label {background-color: #d4ebff;}#sk-container-id-5 input.sk-hidden--visually {border: 0;clip: rect(1px 1px 1px 1px);clip: rect(1px, 1px, 1px, 1px);height: 1px;margin: -1px;overflow: hidden;padding: 0;position: absolute;width: 1px;}#sk-container-id-5 div.sk-estimator {font-family: monospace;background-color: #f0f8ff;border: 1px dotted black;border-radius: 0.25em;box-sizing: border-box;margin-bottom: 0.5em;}#sk-container-id-5 div.sk-estimator:hover {background-color: #d4ebff;}#sk-container-id-5 div.sk-parallel-item::after {content: \"\";width: 100%;border-bottom: 1px solid gray;flex-grow: 1;}#sk-container-id-5 div.sk-label:hover label.sk-toggleable__label {background-color: #d4ebff;}#sk-container-id-5 div.sk-serial::before {content: \"\";position: absolute;border-left: 1px solid gray;box-sizing: border-box;top: 0;bottom: 0;left: 50%;z-index: 0;}#sk-container-id-5 div.sk-serial {display: flex;flex-direction: column;align-items: center;background-color: white;padding-right: 0.2em;padding-left: 0.2em;position: relative;}#sk-container-id-5 div.sk-item {position: relative;z-index: 1;}#sk-container-id-5 div.sk-parallel {display: flex;align-items: stretch;justify-content: center;background-color: white;position: relative;}#sk-container-id-5 div.sk-item::before, #sk-container-id-5 div.sk-parallel-item::before {content: \"\";position: absolute;border-left: 1px solid gray;box-sizing: border-box;top: 0;bottom: 0;left: 50%;z-index: -1;}#sk-container-id-5 div.sk-parallel-item {display: flex;flex-direction: column;z-index: 1;position: relative;background-color: white;}#sk-container-id-5 div.sk-parallel-item:first-child::after {align-self: flex-end;width: 50%;}#sk-container-id-5 div.sk-parallel-item:last-child::after {align-self: flex-start;width: 50%;}#sk-container-id-5 div.sk-parallel-item:only-child::after {width: 0;}#sk-container-id-5 div.sk-dashed-wrapped {border: 1px dashed gray;margin: 0 0.4em 0.5em 0.4em;box-sizing: border-box;padding-bottom: 0.4em;background-color: white;}#sk-container-id-5 div.sk-label label {font-family: monospace;font-weight: bold;display: inline-block;line-height: 1.2em;}#sk-container-id-5 div.sk-label-container {text-align: center;}#sk-container-id-5 div.sk-container {/* jupyter's `normalize.less` sets `[hidden] { display: none; }` but bootstrap.min.css set `[hidden] { display: none !important; }` so we also need the `!important` here to be able to override the default hidden behavior on the sphinx rendered scikit-learn.org. See: https://github.com/scikit-learn/scikit-learn/issues/21755 */display: inline-block !important;position: relative;}#sk-container-id-5 div.sk-text-repr-fallback {display: none;}</style><div id=\"sk-container-id-5\" class=\"sk-top-container\"><div class=\"sk-text-repr-fallback\"><pre>GradientBoostingClassifier(max_depth=5, max_features=&#x27;log2&#x27;, min_samples_leaf=5,\n",
              "                           n_estimators=150)</pre><b>In a Jupyter environment, please rerun this cell to show the HTML representation or trust the notebook. <br />On GitHub, the HTML representation is unable to render, please try loading this page with nbviewer.org.</b></div><div class=\"sk-container\" hidden><div class=\"sk-item\"><div class=\"sk-estimator sk-toggleable\"><input class=\"sk-toggleable__control sk-hidden--visually\" id=\"sk-estimator-id-5\" type=\"checkbox\" checked><label for=\"sk-estimator-id-5\" class=\"sk-toggleable__label sk-toggleable__label-arrow\">GradientBoostingClassifier</label><div class=\"sk-toggleable__content\"><pre>GradientBoostingClassifier(max_depth=5, max_features=&#x27;log2&#x27;, min_samples_leaf=5,\n",
              "                           n_estimators=150)</pre></div></div></div></div></div>"
            ]
          },
          "metadata": {},
          "execution_count": 22
        }
      ]
    },
    {
      "cell_type": "code",
      "source": [
        "precision_gb, recall_gb, accuracy_gb, roc_auc_gb = evaluate_metrics(gb_sampled, X_test, y_test)"
      ],
      "metadata": {
        "colab": {
          "base_uri": "https://localhost:8080/"
        },
        "id": "uuC1olHzyHOZ",
        "outputId": "b7613868-e32a-48b5-e009-5917eed6118e"
      },
      "execution_count": 23,
      "outputs": [
        {
          "output_type": "stream",
          "name": "stdout",
          "text": [
            "precision: 0.3199834847233691\n",
            "recall: 0.6195043964828137\n",
            "accuracy: 0.8867733333333333\n",
            "roc_auc: 0.8702141093000221\n"
          ]
        }
      ]
    },
    {
      "cell_type": "code",
      "source": [
        "adaHyperParams = {'n_estimators': [150, 200, 250],\n",
        "                  'learning_rate': [0.5, 1, 1.5]}\n",
        "\n",
        "gridSearchAda_sampled = GridSearchCV(estimator=ada, param_grid=adaHyperParams,\n",
        "                                           scoring='roc_auc', cv=5, verbose=2)\n",
        "gridSearchAda_sampled.fit(X_train_sampled, y_train_sampled)"
      ],
      "metadata": {
        "colab": {
          "base_uri": "https://localhost:8080/",
          "height": 939
        },
        "id": "yV-09-3Lxsck",
        "outputId": "cfc9be0a-8a8a-4d5c-b2d4-385fddb1ed37"
      },
      "execution_count": 40,
      "outputs": [
        {
          "output_type": "stream",
          "name": "stdout",
          "text": [
            "Fitting 5 folds for each of 9 candidates, totalling 45 fits\n",
            "[CV] END ................learning_rate=0.5, n_estimators=150; total time=  24.1s\n",
            "[CV] END ................learning_rate=0.5, n_estimators=150; total time=  30.5s\n",
            "[CV] END ................learning_rate=0.5, n_estimators=150; total time=  23.6s\n",
            "[CV] END ................learning_rate=0.5, n_estimators=150; total time=  48.7s\n",
            "[CV] END ................learning_rate=0.5, n_estimators=150; total time=  33.6s\n",
            "[CV] END ................learning_rate=0.5, n_estimators=200; total time=  49.3s\n",
            "[CV] END ................learning_rate=0.5, n_estimators=200; total time=  34.0s\n",
            "[CV] END ................learning_rate=0.5, n_estimators=200; total time=  32.2s\n",
            "[CV] END ................learning_rate=0.5, n_estimators=200; total time=  31.4s\n",
            "[CV] END ................learning_rate=0.5, n_estimators=200; total time=  32.8s\n",
            "[CV] END ................learning_rate=0.5, n_estimators=250; total time=  39.4s\n",
            "[CV] END ................learning_rate=0.5, n_estimators=250; total time=  39.1s\n",
            "[CV] END ................learning_rate=0.5, n_estimators=250; total time=  39.3s\n",
            "[CV] END ................learning_rate=0.5, n_estimators=250; total time=  39.8s\n",
            "[CV] END ................learning_rate=0.5, n_estimators=250; total time=  39.8s\n",
            "[CV] END ..................learning_rate=1, n_estimators=150; total time=  24.2s\n",
            "[CV] END ..................learning_rate=1, n_estimators=150; total time=  23.9s\n",
            "[CV] END ..................learning_rate=1, n_estimators=150; total time=  23.9s\n",
            "[CV] END ..................learning_rate=1, n_estimators=150; total time=  23.9s\n",
            "[CV] END ..................learning_rate=1, n_estimators=150; total time=  24.4s\n",
            "[CV] END ..................learning_rate=1, n_estimators=200; total time=  31.5s\n",
            "[CV] END ..................learning_rate=1, n_estimators=200; total time=  32.4s\n",
            "[CV] END ..................learning_rate=1, n_estimators=200; total time=  31.9s\n",
            "[CV] END ..................learning_rate=1, n_estimators=200; total time=  32.5s\n",
            "[CV] END ..................learning_rate=1, n_estimators=200; total time=  32.2s\n",
            "[CV] END ..................learning_rate=1, n_estimators=250; total time=  47.6s\n",
            "[CV] END ..................learning_rate=1, n_estimators=250; total time=  40.4s\n",
            "[CV] END ..................learning_rate=1, n_estimators=250; total time=  41.2s\n",
            "[CV] END ..................learning_rate=1, n_estimators=250; total time=  41.6s\n",
            "[CV] END ..................learning_rate=1, n_estimators=250; total time=  41.3s\n",
            "[CV] END ................learning_rate=1.5, n_estimators=150; total time=  24.2s\n",
            "[CV] END ................learning_rate=1.5, n_estimators=150; total time=  23.6s\n",
            "[CV] END ................learning_rate=1.5, n_estimators=150; total time=  23.9s\n",
            "[CV] END ................learning_rate=1.5, n_estimators=150; total time=  24.2s\n",
            "[CV] END ................learning_rate=1.5, n_estimators=150; total time=  24.5s\n",
            "[CV] END ................learning_rate=1.5, n_estimators=200; total time=  32.8s\n",
            "[CV] END ................learning_rate=1.5, n_estimators=200; total time=  31.4s\n",
            "[CV] END ................learning_rate=1.5, n_estimators=200; total time=  31.4s\n",
            "[CV] END ................learning_rate=1.5, n_estimators=200; total time=  31.1s\n",
            "[CV] END ................learning_rate=1.5, n_estimators=200; total time=  31.8s\n",
            "[CV] END ................learning_rate=1.5, n_estimators=250; total time=  40.2s\n",
            "[CV] END ................learning_rate=1.5, n_estimators=250; total time=  40.2s\n",
            "[CV] END ................learning_rate=1.5, n_estimators=250; total time=  41.1s\n",
            "[CV] END ................learning_rate=1.5, n_estimators=250; total time=  40.9s\n",
            "[CV] END ................learning_rate=1.5, n_estimators=250; total time=  41.0s\n"
          ]
        },
        {
          "output_type": "execute_result",
          "data": {
            "text/plain": [
              "GridSearchCV(cv=5, estimator=AdaBoostClassifier(n_estimators=200),\n",
              "             param_grid={'learning_rate': [0.5, 1, 1.5],\n",
              "                         'n_estimators': [150, 200, 250]},\n",
              "             scoring='roc_auc', verbose=2)"
            ],
            "text/html": [
              "<style>#sk-container-id-6 {color: black;background-color: white;}#sk-container-id-6 pre{padding: 0;}#sk-container-id-6 div.sk-toggleable {background-color: white;}#sk-container-id-6 label.sk-toggleable__label {cursor: pointer;display: block;width: 100%;margin-bottom: 0;padding: 0.3em;box-sizing: border-box;text-align: center;}#sk-container-id-6 label.sk-toggleable__label-arrow:before {content: \"▸\";float: left;margin-right: 0.25em;color: #696969;}#sk-container-id-6 label.sk-toggleable__label-arrow:hover:before {color: black;}#sk-container-id-6 div.sk-estimator:hover label.sk-toggleable__label-arrow:before {color: black;}#sk-container-id-6 div.sk-toggleable__content {max-height: 0;max-width: 0;overflow: hidden;text-align: left;background-color: #f0f8ff;}#sk-container-id-6 div.sk-toggleable__content pre {margin: 0.2em;color: black;border-radius: 0.25em;background-color: #f0f8ff;}#sk-container-id-6 input.sk-toggleable__control:checked~div.sk-toggleable__content {max-height: 200px;max-width: 100%;overflow: auto;}#sk-container-id-6 input.sk-toggleable__control:checked~label.sk-toggleable__label-arrow:before {content: \"▾\";}#sk-container-id-6 div.sk-estimator input.sk-toggleable__control:checked~label.sk-toggleable__label {background-color: #d4ebff;}#sk-container-id-6 div.sk-label input.sk-toggleable__control:checked~label.sk-toggleable__label {background-color: #d4ebff;}#sk-container-id-6 input.sk-hidden--visually {border: 0;clip: rect(1px 1px 1px 1px);clip: rect(1px, 1px, 1px, 1px);height: 1px;margin: -1px;overflow: hidden;padding: 0;position: absolute;width: 1px;}#sk-container-id-6 div.sk-estimator {font-family: monospace;background-color: #f0f8ff;border: 1px dotted black;border-radius: 0.25em;box-sizing: border-box;margin-bottom: 0.5em;}#sk-container-id-6 div.sk-estimator:hover {background-color: #d4ebff;}#sk-container-id-6 div.sk-parallel-item::after {content: \"\";width: 100%;border-bottom: 1px solid gray;flex-grow: 1;}#sk-container-id-6 div.sk-label:hover label.sk-toggleable__label {background-color: #d4ebff;}#sk-container-id-6 div.sk-serial::before {content: \"\";position: absolute;border-left: 1px solid gray;box-sizing: border-box;top: 0;bottom: 0;left: 50%;z-index: 0;}#sk-container-id-6 div.sk-serial {display: flex;flex-direction: column;align-items: center;background-color: white;padding-right: 0.2em;padding-left: 0.2em;position: relative;}#sk-container-id-6 div.sk-item {position: relative;z-index: 1;}#sk-container-id-6 div.sk-parallel {display: flex;align-items: stretch;justify-content: center;background-color: white;position: relative;}#sk-container-id-6 div.sk-item::before, #sk-container-id-6 div.sk-parallel-item::before {content: \"\";position: absolute;border-left: 1px solid gray;box-sizing: border-box;top: 0;bottom: 0;left: 50%;z-index: -1;}#sk-container-id-6 div.sk-parallel-item {display: flex;flex-direction: column;z-index: 1;position: relative;background-color: white;}#sk-container-id-6 div.sk-parallel-item:first-child::after {align-self: flex-end;width: 50%;}#sk-container-id-6 div.sk-parallel-item:last-child::after {align-self: flex-start;width: 50%;}#sk-container-id-6 div.sk-parallel-item:only-child::after {width: 0;}#sk-container-id-6 div.sk-dashed-wrapped {border: 1px dashed gray;margin: 0 0.4em 0.5em 0.4em;box-sizing: border-box;padding-bottom: 0.4em;background-color: white;}#sk-container-id-6 div.sk-label label {font-family: monospace;font-weight: bold;display: inline-block;line-height: 1.2em;}#sk-container-id-6 div.sk-label-container {text-align: center;}#sk-container-id-6 div.sk-container {/* jupyter's `normalize.less` sets `[hidden] { display: none; }` but bootstrap.min.css set `[hidden] { display: none !important; }` so we also need the `!important` here to be able to override the default hidden behavior on the sphinx rendered scikit-learn.org. See: https://github.com/scikit-learn/scikit-learn/issues/21755 */display: inline-block !important;position: relative;}#sk-container-id-6 div.sk-text-repr-fallback {display: none;}</style><div id=\"sk-container-id-6\" class=\"sk-top-container\"><div class=\"sk-text-repr-fallback\"><pre>GridSearchCV(cv=5, estimator=AdaBoostClassifier(n_estimators=200),\n",
              "             param_grid={&#x27;learning_rate&#x27;: [0.5, 1, 1.5],\n",
              "                         &#x27;n_estimators&#x27;: [150, 200, 250]},\n",
              "             scoring=&#x27;roc_auc&#x27;, verbose=2)</pre><b>In a Jupyter environment, please rerun this cell to show the HTML representation or trust the notebook. <br />On GitHub, the HTML representation is unable to render, please try loading this page with nbviewer.org.</b></div><div class=\"sk-container\" hidden><div class=\"sk-item sk-dashed-wrapped\"><div class=\"sk-label-container\"><div class=\"sk-label sk-toggleable\"><input class=\"sk-toggleable__control sk-hidden--visually\" id=\"sk-estimator-id-6\" type=\"checkbox\" ><label for=\"sk-estimator-id-6\" class=\"sk-toggleable__label sk-toggleable__label-arrow\">GridSearchCV</label><div class=\"sk-toggleable__content\"><pre>GridSearchCV(cv=5, estimator=AdaBoostClassifier(n_estimators=200),\n",
              "             param_grid={&#x27;learning_rate&#x27;: [0.5, 1, 1.5],\n",
              "                         &#x27;n_estimators&#x27;: [150, 200, 250]},\n",
              "             scoring=&#x27;roc_auc&#x27;, verbose=2)</pre></div></div></div><div class=\"sk-parallel\"><div class=\"sk-parallel-item\"><div class=\"sk-item\"><div class=\"sk-label-container\"><div class=\"sk-label sk-toggleable\"><input class=\"sk-toggleable__control sk-hidden--visually\" id=\"sk-estimator-id-7\" type=\"checkbox\" ><label for=\"sk-estimator-id-7\" class=\"sk-toggleable__label sk-toggleable__label-arrow\">estimator: AdaBoostClassifier</label><div class=\"sk-toggleable__content\"><pre>AdaBoostClassifier(n_estimators=200)</pre></div></div></div><div class=\"sk-serial\"><div class=\"sk-item\"><div class=\"sk-estimator sk-toggleable\"><input class=\"sk-toggleable__control sk-hidden--visually\" id=\"sk-estimator-id-8\" type=\"checkbox\" ><label for=\"sk-estimator-id-8\" class=\"sk-toggleable__label sk-toggleable__label-arrow\">AdaBoostClassifier</label><div class=\"sk-toggleable__content\"><pre>AdaBoostClassifier(n_estimators=200)</pre></div></div></div></div></div></div></div></div></div></div>"
            ]
          },
          "metadata": {},
          "execution_count": 40
        }
      ]
    },
    {
      "cell_type": "code",
      "source": [
        "ada_sampled = gridSearchAda_sampled.best_estimator_.fit(X_train_sampled, y_train_sampled)\n",
        "precision_ada, recall_ada, accuracy_ada, roc_auc_ada = evaluate_metrics(ada_sampled, X_test, y_test)"
      ],
      "metadata": {
        "colab": {
          "base_uri": "https://localhost:8080/"
        },
        "id": "9KUeu1kZxsXv",
        "outputId": "4900e948-11d6-44d9-baf8-713654939ef0"
      },
      "execution_count": 41,
      "outputs": [
        {
          "output_type": "stream",
          "name": "stdout",
          "text": [
            "precision: 0.32388663967611336\n",
            "recall: 0.6075139888089528\n",
            "accuracy: 0.8892\n",
            "roc_auc: 0.8643984007034045\n"
          ]
        }
      ]
    },
    {
      "cell_type": "code",
      "source": [
        "gridSearchAda_sampled.best_params_"
      ],
      "metadata": {
        "colab": {
          "base_uri": "https://localhost:8080/"
        },
        "id": "b50ca6lsReIR",
        "outputId": "7855e745-e189-4668-a221-2e2742528de7"
      },
      "execution_count": 46,
      "outputs": [
        {
          "output_type": "execute_result",
          "data": {
            "text/plain": [
              "{'learning_rate': 1.5, 'n_estimators': 250}"
            ]
          },
          "metadata": {},
          "execution_count": 46
        }
      ]
    },
    {
      "cell_type": "code",
      "source": [
        "gbHyperParams = {'n_estimators': [100, 150, 200],\n",
        "                 'max_depth': [5, 10, 15, 20, 30],\n",
        "                 'min_samples_leaf': [1, 2, 3, 4, 5],\n",
        "                 'learning_rate': [0.1, 0.5, 1],\n",
        "                 'max_features':['sqrt', 'log2']}\n",
        "\n",
        "gridSearchGB_sampled = RandomizedSearchCV(estimator=gb, param_distributions=gbHyperParams,\n",
        "                                  n_iter=10, scoring='roc_auc', cv=5, verbose=2).fit(X_train_sampled, y_train_sampled)"
      ],
      "metadata": {
        "colab": {
          "base_uri": "https://localhost:8080/"
        },
        "id": "YrLleg69xsVk",
        "outputId": "460ba67e-a928-4e75-9af0-c3e77930cb98"
      },
      "execution_count": 42,
      "outputs": [
        {
          "output_type": "stream",
          "name": "stdout",
          "text": [
            "Fitting 5 folds for each of 10 candidates, totalling 50 fits\n",
            "[CV] END learning_rate=0.5, max_depth=15, max_features=log2, min_samples_leaf=5, n_estimators=100; total time= 1.2min\n",
            "[CV] END learning_rate=0.5, max_depth=15, max_features=log2, min_samples_leaf=5, n_estimators=100; total time= 1.2min\n",
            "[CV] END learning_rate=0.5, max_depth=15, max_features=log2, min_samples_leaf=5, n_estimators=100; total time= 1.2min\n",
            "[CV] END learning_rate=0.5, max_depth=15, max_features=log2, min_samples_leaf=5, n_estimators=100; total time= 1.3min\n",
            "[CV] END learning_rate=0.5, max_depth=15, max_features=log2, min_samples_leaf=5, n_estimators=100; total time= 1.2min\n",
            "[CV] END learning_rate=1, max_depth=20, max_features=log2, min_samples_leaf=5, n_estimators=200; total time= 4.7min\n",
            "[CV] END learning_rate=1, max_depth=20, max_features=log2, min_samples_leaf=5, n_estimators=200; total time= 4.7min\n",
            "[CV] END learning_rate=1, max_depth=20, max_features=log2, min_samples_leaf=5, n_estimators=200; total time= 4.7min\n",
            "[CV] END learning_rate=1, max_depth=20, max_features=log2, min_samples_leaf=5, n_estimators=200; total time= 4.5min\n",
            "[CV] END learning_rate=1, max_depth=20, max_features=log2, min_samples_leaf=5, n_estimators=200; total time= 4.4min\n",
            "[CV] END learning_rate=0.1, max_depth=5, max_features=sqrt, min_samples_leaf=3, n_estimators=200; total time=  30.4s\n",
            "[CV] END learning_rate=0.1, max_depth=5, max_features=sqrt, min_samples_leaf=3, n_estimators=200; total time=  29.2s\n",
            "[CV] END learning_rate=0.1, max_depth=5, max_features=sqrt, min_samples_leaf=3, n_estimators=200; total time=  29.5s\n",
            "[CV] END learning_rate=0.1, max_depth=5, max_features=sqrt, min_samples_leaf=3, n_estimators=200; total time=  30.4s\n",
            "[CV] END learning_rate=0.1, max_depth=5, max_features=sqrt, min_samples_leaf=3, n_estimators=200; total time=  29.9s\n",
            "[CV] END learning_rate=1, max_depth=30, max_features=sqrt, min_samples_leaf=1, n_estimators=150; total time= 1.4min\n",
            "[CV] END learning_rate=1, max_depth=30, max_features=sqrt, min_samples_leaf=1, n_estimators=150; total time= 1.3min\n",
            "[CV] END learning_rate=1, max_depth=30, max_features=sqrt, min_samples_leaf=1, n_estimators=150; total time= 1.4min\n",
            "[CV] END learning_rate=1, max_depth=30, max_features=sqrt, min_samples_leaf=1, n_estimators=150; total time= 1.3min\n",
            "[CV] END learning_rate=1, max_depth=30, max_features=sqrt, min_samples_leaf=1, n_estimators=150; total time= 1.3min\n",
            "[CV] END learning_rate=1, max_depth=20, max_features=log2, min_samples_leaf=2, n_estimators=100; total time= 1.4min\n",
            "[CV] END learning_rate=1, max_depth=20, max_features=log2, min_samples_leaf=2, n_estimators=100; total time= 1.4min\n",
            "[CV] END learning_rate=1, max_depth=20, max_features=log2, min_samples_leaf=2, n_estimators=100; total time= 1.5min\n",
            "[CV] END learning_rate=1, max_depth=20, max_features=log2, min_samples_leaf=2, n_estimators=100; total time= 1.4min\n",
            "[CV] END learning_rate=1, max_depth=20, max_features=log2, min_samples_leaf=2, n_estimators=100; total time= 1.5min\n",
            "[CV] END learning_rate=1, max_depth=15, max_features=log2, min_samples_leaf=4, n_estimators=150; total time= 1.9min\n",
            "[CV] END learning_rate=1, max_depth=15, max_features=log2, min_samples_leaf=4, n_estimators=150; total time= 1.7min\n",
            "[CV] END learning_rate=1, max_depth=15, max_features=log2, min_samples_leaf=4, n_estimators=150; total time= 1.9min\n",
            "[CV] END learning_rate=1, max_depth=15, max_features=log2, min_samples_leaf=4, n_estimators=150; total time= 1.8min\n",
            "[CV] END learning_rate=1, max_depth=15, max_features=log2, min_samples_leaf=4, n_estimators=150; total time= 1.9min\n",
            "[CV] END learning_rate=1, max_depth=15, max_features=sqrt, min_samples_leaf=2, n_estimators=200; total time= 2.9min\n",
            "[CV] END learning_rate=1, max_depth=15, max_features=sqrt, min_samples_leaf=2, n_estimators=200; total time= 3.0min\n",
            "[CV] END learning_rate=1, max_depth=15, max_features=sqrt, min_samples_leaf=2, n_estimators=200; total time= 3.1min\n",
            "[CV] END learning_rate=1, max_depth=15, max_features=sqrt, min_samples_leaf=2, n_estimators=200; total time= 3.0min\n",
            "[CV] END learning_rate=1, max_depth=15, max_features=sqrt, min_samples_leaf=2, n_estimators=200; total time= 3.1min\n",
            "[CV] END learning_rate=1, max_depth=5, max_features=sqrt, min_samples_leaf=4, n_estimators=150; total time=  22.4s\n",
            "[CV] END learning_rate=1, max_depth=5, max_features=sqrt, min_samples_leaf=4, n_estimators=150; total time=  22.4s\n",
            "[CV] END learning_rate=1, max_depth=5, max_features=sqrt, min_samples_leaf=4, n_estimators=150; total time=  22.2s\n",
            "[CV] END learning_rate=1, max_depth=5, max_features=sqrt, min_samples_leaf=4, n_estimators=150; total time=  22.7s\n",
            "[CV] END learning_rate=1, max_depth=5, max_features=sqrt, min_samples_leaf=4, n_estimators=150; total time=  22.6s\n",
            "[CV] END learning_rate=0.1, max_depth=15, max_features=sqrt, min_samples_leaf=4, n_estimators=150; total time= 1.8min\n",
            "[CV] END learning_rate=0.1, max_depth=15, max_features=sqrt, min_samples_leaf=4, n_estimators=150; total time= 1.8min\n",
            "[CV] END learning_rate=0.1, max_depth=15, max_features=sqrt, min_samples_leaf=4, n_estimators=150; total time= 1.8min\n",
            "[CV] END learning_rate=0.1, max_depth=15, max_features=sqrt, min_samples_leaf=4, n_estimators=150; total time= 1.8min\n",
            "[CV] END learning_rate=0.1, max_depth=15, max_features=sqrt, min_samples_leaf=4, n_estimators=150; total time= 1.8min\n",
            "[CV] END learning_rate=0.5, max_depth=10, max_features=sqrt, min_samples_leaf=1, n_estimators=150; total time=  52.0s\n",
            "[CV] END learning_rate=0.5, max_depth=10, max_features=sqrt, min_samples_leaf=1, n_estimators=150; total time=  51.0s\n",
            "[CV] END learning_rate=0.5, max_depth=10, max_features=sqrt, min_samples_leaf=1, n_estimators=150; total time=  51.3s\n",
            "[CV] END learning_rate=0.5, max_depth=10, max_features=sqrt, min_samples_leaf=1, n_estimators=150; total time=  51.9s\n",
            "[CV] END learning_rate=0.5, max_depth=10, max_features=sqrt, min_samples_leaf=1, n_estimators=150; total time=  50.8s\n"
          ]
        }
      ]
    },
    {
      "cell_type": "code",
      "source": [
        "gb_sampled = gridSearchGB_sampled.best_estimator_.fit(X_train_sampled, y_train_sampled)\n",
        "precision_gb, recall_gb, accuracy_gb, roc_auc_gb = evaluate_metrics(gb_sampled, X_test, y_test)"
      ],
      "metadata": {
        "colab": {
          "base_uri": "https://localhost:8080/"
        },
        "id": "GTBL6ka1xsT_",
        "outputId": "fe886ed7-28ea-42f6-b84b-c522e7c9ef76"
      },
      "execution_count": 43,
      "outputs": [
        {
          "output_type": "stream",
          "name": "stdout",
          "text": [
            "precision: 0.441938178780284\n",
            "recall: 0.2114308553157474\n",
            "accuracy: 0.9295733333333334\n",
            "roc_auc: 0.7966084986745161\n"
          ]
        }
      ]
    },
    {
      "cell_type": "code",
      "source": [
        "gridSearchGB_sampled.best_params_"
      ],
      "metadata": {
        "colab": {
          "base_uri": "https://localhost:8080/"
        },
        "id": "S55yfCmWxsRd",
        "outputId": "9e68ffae-17d8-459a-bb48-a2abbfc47f2c"
      },
      "execution_count": 45,
      "outputs": [
        {
          "output_type": "execute_result",
          "data": {
            "text/plain": [
              "{'n_estimators': 150,\n",
              " 'min_samples_leaf': 1,\n",
              " 'max_features': 'sqrt',\n",
              " 'max_depth': 30,\n",
              " 'learning_rate': 1}"
            ]
          },
          "metadata": {},
          "execution_count": 45
        }
      ]
    },
    {
      "cell_type": "code",
      "source": [],
      "metadata": {
        "id": "T9h-wB9bxsLc"
      },
      "execution_count": null,
      "outputs": []
    },
    {
      "cell_type": "code",
      "source": [],
      "metadata": {
        "id": "W9qk1tl3yHMf"
      },
      "execution_count": null,
      "outputs": []
    },
    {
      "cell_type": "markdown",
      "source": [
        "### Ensemble Model with Bagging"
      ],
      "metadata": {
        "id": "S_g_iFy3v_zx"
      }
    },
    {
      "cell_type": "markdown",
      "source": [
        "Our baseline models use the Boosting technique, which is helpful in reducing the bias but might increase variance. To address this problem, in this step we use the **Bagging** ensemble technique.\n",
        "\n",
        "A Bagging classifier is an ensemble meta-estimator that fits base classifiers each on random subsets (sampled with **BootStrap**) of the original dataset and then aggregate their individual predictions to form a final prediction. It can reduce the variance  by introducing randomization into its construction procedure and then make an ensemble out of it."
      ],
      "metadata": {
        "id": "q_csNRTazLFc"
      }
    },
    {
      "cell_type": "markdown",
      "source": [
        "After bagging, the performance of all of these four models improve."
      ],
      "metadata": {
        "id": "yP8xPtsy1KrL"
      }
    },
    {
      "cell_type": "code",
      "source": [
        "from sklearn.ensemble import BaggingClassifier\n",
        "\n",
        "ada_bag = BaggingClassifier(estimator=ada, n_estimators=10).fit(X_train, y_train)\n",
        "pre_ada_bag, re_ada_bag, acc_ada_bag, auc_ada_bag = evaluate_metrics(ada_bag, X_test, y_test)"
      ],
      "metadata": {
        "colab": {
          "base_uri": "https://localhost:8080/"
        },
        "id": "5B4uZ-iayHIk",
        "outputId": "caad96ca-1350-4c32-dbbb-3a78742dea05"
      },
      "execution_count": 24,
      "outputs": [
        {
          "output_type": "stream",
          "name": "stdout",
          "text": [
            "precision: 0.5599128540305011\n",
            "recall: 0.20543565147881696\n",
            "accuracy: 0.9362133333333333\n",
            "roc_auc: 0.8661803913061332\n"
          ]
        }
      ]
    },
    {
      "cell_type": "code",
      "source": [
        "gb_bag = BaggingClassifier(estimator=gb, n_estimators=10).fit(X_train, y_train)\n",
        "pre_gb_bag, re_gb_bag, acc_gb_bag, auc_gb_bag = evaluate_metrics(gb_bag, X_test, y_test)"
      ],
      "metadata": {
        "colab": {
          "base_uri": "https://localhost:8080/"
        },
        "id": "CzrnD0XnyHDv",
        "outputId": "5241be1a-8050-43b4-f677-a4e4d9017f39"
      },
      "execution_count": 25,
      "outputs": [
        {
          "output_type": "stream",
          "name": "stdout",
          "text": [
            "precision: 0.5875912408759124\n",
            "recall: 0.19304556354916066\n",
            "accuracy: 0.93712\n",
            "roc_auc: 0.8722885341078528\n"
          ]
        }
      ]
    },
    {
      "cell_type": "code",
      "source": [
        "ada_bag_sampled = BaggingClassifier(estimator=ada_sampled, n_estimators=10).fit(X_train_sampled, y_train_sampled)\n",
        "pre_ada_bag, re_ada_bag, acc_ada_bag, auc_ada_bag = evaluate_metrics(ada_bag_sampled, X_test, y_test)"
      ],
      "metadata": {
        "colab": {
          "base_uri": "https://localhost:8080/"
        },
        "id": "WnsQlWJSckWo",
        "outputId": "b8459f68-0d1e-4dee-cdfa-0ac9f4063d11"
      },
      "execution_count": 13,
      "outputs": [
        {
          "output_type": "stream",
          "name": "stdout",
          "text": [
            "precision: 0.3274891774891775\n",
            "recall: 0.6147162270183853\n",
            "accuracy: 0.8907733333333333\n",
            "roc_auc: 0.8690342541442017\n"
          ]
        }
      ]
    },
    {
      "cell_type": "code",
      "source": [
        "gb_bag_sampled = BaggingClassifier(estimator=gb_sampled, n_estimators=10).fit(X_train_sampled, y_train_sampled)\n",
        "pre_gb_bag, re_gb_bag, acc_gb_bag, auc_gb_bag = evaluate_metrics(gb_bag_sampled, X_test, y_test)"
      ],
      "metadata": {
        "colab": {
          "base_uri": "https://localhost:8080/"
        },
        "id": "Bflxs908ckUE",
        "outputId": "703e7489-30a3-4065-c70c-633bba2b5102"
      },
      "execution_count": 27,
      "outputs": [
        {
          "output_type": "stream",
          "name": "stdout",
          "text": [
            "precision: 0.3242131248714256\n",
            "recall: 0.6298960831334932\n",
            "accuracy: 0.8877066666666666\n",
            "roc_auc: 0.8721346998063015\n"
          ]
        }
      ]
    },
    {
      "cell_type": "code",
      "source": [],
      "metadata": {
        "id": "ayJ5q3R91X3l"
      },
      "execution_count": null,
      "outputs": []
    },
    {
      "cell_type": "code",
      "source": [
        "!pip install xgboost\n",
        "import xgboost as xgb"
      ],
      "metadata": {
        "colab": {
          "base_uri": "https://localhost:8080/"
        },
        "id": "TEhKNBpO1X0-",
        "outputId": "754f6c6b-7f54-436d-98b8-1840885a352f"
      },
      "execution_count": 29,
      "outputs": [
        {
          "output_type": "stream",
          "name": "stdout",
          "text": [
            "Requirement already satisfied: xgboost in /usr/local/lib/python3.10/dist-packages (2.0.3)\n",
            "Requirement already satisfied: numpy in /usr/local/lib/python3.10/dist-packages (from xgboost) (1.25.2)\n",
            "Requirement already satisfied: scipy in /usr/local/lib/python3.10/dist-packages (from xgboost) (1.11.4)\n"
          ]
        }
      ]
    },
    {
      "cell_type": "code",
      "source": [
        "from xgboost import XGBClassifier\n",
        "xgb_params = {\n",
        "    'colsample_bytree': 0.8,\n",
        " 'max_depth': 16,\n",
        " 'min_child_samples': 39,\n",
        " 'min_child_weight': 1,\n",
        " 'n_estimators': 289,\n",
        " 'reg_alpha': 1.0,\n",
        " 'reg_lambda': 10.0,\n",
        " 'scale_pos_weight': 1,\n",
        " #'seed': 3011,\n",
        " 'subsample': 1.0}\n",
        "xgb_model = XGBClassifier(boosting_type = \"gbdt\",n_jobs =-1, **xgb_params)\n",
        "#bagging = BaggingClassifier(estimator=xgb_model, n_estimators=10, random_state=3011)\n",
        "#bagging_xgb_sampled = bagging.fit(X_train_sampled,y_train_sampled)\n",
        "xgb_sampled = xgb_model.fit(X_train_sampled,y_train_sampled)"
      ],
      "metadata": {
        "id": "cxVRuNnUs6X_"
      },
      "execution_count": 36,
      "outputs": []
    },
    {
      "cell_type": "code",
      "source": [
        "evaluate_metrics(xgb_sampled, X_test, y_test)"
      ],
      "metadata": {
        "colab": {
          "base_uri": "https://localhost:8080/"
        },
        "id": "L5M4fXdss6WD",
        "outputId": "b56ed039-c459-415d-de6f-76f54fd47e19"
      },
      "execution_count": 37,
      "outputs": [
        {
          "output_type": "stream",
          "name": "stdout",
          "text": [
            "precision: 0.40307692307692305\n",
            "recall: 0.31414868105515587\n",
            "accuracy: 0.9232\n",
            "roc_auc: 0.8200171219102208\n"
          ]
        },
        {
          "output_type": "execute_result",
          "data": {
            "text/plain": [
              "(0.40307692307692305, 0.31414868105515587, 0.9232, 0.8200171219102208)"
            ]
          },
          "metadata": {},
          "execution_count": 37
        }
      ]
    },
    {
      "cell_type": "code",
      "source": [],
      "metadata": {
        "id": "V5wfMdXGs6KR"
      },
      "execution_count": null,
      "outputs": []
    },
    {
      "cell_type": "code",
      "source": [],
      "metadata": {
        "id": "2c3eJQe31Xyr"
      },
      "execution_count": null,
      "outputs": []
    },
    {
      "cell_type": "markdown",
      "source": [
        "### Ensemble Model with Voting"
      ],
      "metadata": {
        "id": "vR2LuHWU4bgy"
      }
    },
    {
      "cell_type": "code",
      "source": [
        "def voting(models, X_test, prob=False):\n",
        "  pred_result = np.repeat(0.0, len(X_test))\n",
        "  for m in models:\n",
        "    if prob:\n",
        "      y_pred = m.predict_proba(X_test)[:, 1]\n",
        "    else:\n",
        "      y_pred = m.predict(X_test)\n",
        "    pred_result += y_pred\n",
        "\n",
        "  if prob:\n",
        "    pred_result /= len(models)\n",
        "    pred_result = (pred_result>0.5).astype(int)\n",
        "  else:\n",
        "    pred_result = (pred_result>=(len(models)/2)).astype(int)\n",
        "\n",
        "  return pred_result"
      ],
      "metadata": {
        "id": "pgk8Gg6xckQs"
      },
      "execution_count": null,
      "outputs": []
    },
    {
      "cell_type": "code",
      "source": [
        "y_pred = gb_sampled.predict(X_test)\n",
        "y_pred_prob = gb_sampled.predict_proba(X_test)[:, 1]"
      ],
      "metadata": {
        "id": "vwELVsknckNo"
      },
      "execution_count": null,
      "outputs": []
    },
    {
      "cell_type": "code",
      "source": [
        "voting_pred = voting([ada_bag, gb_bag, ada_bag_sampled, gb_bag_sampled], X_test, prob=True)"
      ],
      "metadata": {
        "id": "6m45og7XyHBi"
      },
      "execution_count": null,
      "outputs": []
    },
    {
      "cell_type": "code",
      "source": [
        "precision = precision_score(y_test, voting_pred)\n",
        "recall = recall_score(y_test, voting_pred)\n",
        "accuracy = accuracy_score(y_test, voting_pred)\n",
        "\n",
        "print(f'precision: {precision}')\n",
        "print(f'recall: {recall}')\n",
        "print(f'accuracy: {accuracy}')"
      ],
      "metadata": {
        "colab": {
          "base_uri": "https://localhost:8080/"
        },
        "id": "pve8qU8DdSde",
        "outputId": "1d3cc57a-9391-4069-df7c-cf547002f50d"
      },
      "execution_count": null,
      "outputs": [
        {
          "output_type": "stream",
          "name": "stdout",
          "text": [
            "precision: 0.4517488411293721\n",
            "recall: 0.4284572342126299\n",
            "accuracy: 0.9271733333333333\n"
          ]
        }
      ]
    },
    {
      "cell_type": "code",
      "source": [],
      "metadata": {
        "id": "P_gg9mnvdSZJ"
      },
      "execution_count": null,
      "outputs": []
    },
    {
      "cell_type": "markdown",
      "source": [
        "### Prediction on the test set"
      ],
      "metadata": {
        "id": "642hqsu8Uo9S"
      }
    },
    {
      "cell_type": "code",
      "source": [
        "X_test = df_test.iloc[:, 1:]\n",
        "\n",
        "y_pred_ada = ada_bag.predict(X_test)\n",
        "y_pred_gb = gb_bag.predict(X_test)"
      ],
      "metadata": {
        "id": "dex_c6-cdSUn"
      },
      "execution_count": 12,
      "outputs": []
    },
    {
      "cell_type": "code",
      "source": [
        "pd.DataFrame({'y_pred':y_pred_ada}).to_csv('prediction_ada.csv', index=False)\n",
        "pd.DataFrame({'y_pred':y_pred_gb}).to_csv('prediction_gb.csv', index=False)"
      ],
      "metadata": {
        "id": "nl9npa_oVW7F"
      },
      "execution_count": 15,
      "outputs": []
    },
    {
      "cell_type": "code",
      "source": [],
      "metadata": {
        "id": "Ug5JH6GJVfOn"
      },
      "execution_count": null,
      "outputs": []
    }
  ]
}
